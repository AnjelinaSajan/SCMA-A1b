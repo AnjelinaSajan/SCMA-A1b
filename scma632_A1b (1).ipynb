{
 "cells": [
  {
   "cell_type": "code",
   "execution_count": 1,
   "id": "9d35296f",
   "metadata": {
    "ExecuteTime": {
     "end_time": "2024-06-17T18:40:55.517191Z",
     "start_time": "2024-06-17T18:40:55.501554Z"
    }
   },
   "outputs": [],
   "source": [
    "import os\n",
    "import pandas as pd\n",
    "import numpy as np\n",
    "import matplotlib.pyplot as plt\n",
    "import seaborn as sns"
   ]
  },
  {
   "cell_type": "code",
   "execution_count": 2,
   "id": "ccea5d65",
   "metadata": {
    "ExecuteTime": {
     "end_time": "2024-06-17T18:41:02.872798Z",
     "start_time": "2024-06-17T18:41:02.864783Z"
    }
   },
   "outputs": [],
   "source": [
    "os.chdir('C:\\\\Users\\\\anjel\\\\Downloads\\\\SCMA')"
   ]
  },
  {
   "cell_type": "code",
   "execution_count": 3,
   "id": "4e18af9c",
   "metadata": {
    "ExecuteTime": {
     "end_time": "2024-06-17T18:45:43.893820Z",
     "start_time": "2024-06-17T18:45:41.588693Z"
    }
   },
   "outputs": [],
   "source": [
    "ipl_bbb = pd.read_csv('IPL_ball_by_ball_updated till 2024.csv',low_memory=False)"
   ]
  },
  {
   "cell_type": "code",
   "execution_count": 33,
   "id": "eaa0af17",
   "metadata": {},
   "outputs": [
    {
     "data": {
      "text/html": [
       "<div>\n",
       "<style scoped>\n",
       "    .dataframe tbody tr th:only-of-type {\n",
       "        vertical-align: middle;\n",
       "    }\n",
       "\n",
       "    .dataframe tbody tr th {\n",
       "        vertical-align: top;\n",
       "    }\n",
       "\n",
       "    .dataframe thead th {\n",
       "        text-align: right;\n",
       "    }\n",
       "</style>\n",
       "<table border=\"1\" class=\"dataframe\">\n",
       "  <thead>\n",
       "    <tr style=\"text-align: right;\">\n",
       "      <th></th>\n",
       "      <th>Match id</th>\n",
       "      <th>Date</th>\n",
       "      <th>Season</th>\n",
       "      <th>Batting team</th>\n",
       "      <th>Bowling team</th>\n",
       "      <th>Innings No</th>\n",
       "      <th>Ball No</th>\n",
       "      <th>Bowler</th>\n",
       "      <th>Striker</th>\n",
       "      <th>Non Striker</th>\n",
       "      <th>runs_scored</th>\n",
       "      <th>extras</th>\n",
       "      <th>type of extras</th>\n",
       "      <th>score</th>\n",
       "      <th>score/wicket</th>\n",
       "      <th>wicket_confirmation</th>\n",
       "      <th>wicket_type</th>\n",
       "      <th>fielders_involved</th>\n",
       "      <th>Player Out</th>\n",
       "    </tr>\n",
       "  </thead>\n",
       "  <tbody>\n",
       "    <tr>\n",
       "      <th>0</th>\n",
       "      <td>335982</td>\n",
       "      <td>18-04-2008</td>\n",
       "      <td>2007/08</td>\n",
       "      <td>Kolkata Knight Riders</td>\n",
       "      <td>Royal Challengers Bangalore</td>\n",
       "      <td>1</td>\n",
       "      <td>0.1</td>\n",
       "      <td>P Kumar</td>\n",
       "      <td>SC Ganguly</td>\n",
       "      <td>BB McCullum</td>\n",
       "      <td>0</td>\n",
       "      <td>1</td>\n",
       "      <td>legbyes</td>\n",
       "      <td>1</td>\n",
       "      <td>1/0</td>\n",
       "      <td>0</td>\n",
       "      <td>NaN</td>\n",
       "      <td>NaN</td>\n",
       "      <td>NaN</td>\n",
       "    </tr>\n",
       "    <tr>\n",
       "      <th>1</th>\n",
       "      <td>335982</td>\n",
       "      <td>18-04-2008</td>\n",
       "      <td>2007/08</td>\n",
       "      <td>Kolkata Knight Riders</td>\n",
       "      <td>Royal Challengers Bangalore</td>\n",
       "      <td>1</td>\n",
       "      <td>0.2</td>\n",
       "      <td>P Kumar</td>\n",
       "      <td>BB McCullum</td>\n",
       "      <td>SC Ganguly</td>\n",
       "      <td>0</td>\n",
       "      <td>0</td>\n",
       "      <td>NaN</td>\n",
       "      <td>1</td>\n",
       "      <td>1/0</td>\n",
       "      <td>0</td>\n",
       "      <td>NaN</td>\n",
       "      <td>NaN</td>\n",
       "      <td>NaN</td>\n",
       "    </tr>\n",
       "  </tbody>\n",
       "</table>\n",
       "</div>"
      ],
      "text/plain": [
       "   Match id        Date   Season           Batting team  \\\n",
       "0    335982  18-04-2008  2007/08  Kolkata Knight Riders   \n",
       "1    335982  18-04-2008  2007/08  Kolkata Knight Riders   \n",
       "\n",
       "                  Bowling team  Innings No  Ball No   Bowler      Striker  \\\n",
       "0  Royal Challengers Bangalore           1      0.1  P Kumar   SC Ganguly   \n",
       "1  Royal Challengers Bangalore           1      0.2  P Kumar  BB McCullum   \n",
       "\n",
       "   Non Striker  runs_scored  extras type of extras  score score/wicket  \\\n",
       "0  BB McCullum            0       1        legbyes      1          1/0   \n",
       "1   SC Ganguly            0       0            NaN      1          1/0   \n",
       "\n",
       "   wicket_confirmation wicket_type fielders_involved Player Out  \n",
       "0                    0         NaN               NaN        NaN  \n",
       "1                    0         NaN               NaN        NaN  "
      ]
     },
     "execution_count": 33,
     "metadata": {},
     "output_type": "execute_result"
    }
   ],
   "source": [
    "ipl_bbb.head(2)"
   ]
  },
  {
   "cell_type": "code",
   "execution_count": 4,
   "id": "c9f1dae5",
   "metadata": {
    "ExecuteTime": {
     "end_time": "2024-06-17T18:42:45.099983Z",
     "start_time": "2024-06-17T18:42:44.158183Z"
    }
   },
   "outputs": [],
   "source": [
    "ipl_salary = pd.read_excel('IPL SALARIES 2024.xlsx')"
   ]
  },
  {
   "cell_type": "code",
   "execution_count": 5,
   "id": "890ec4e9",
   "metadata": {
    "ExecuteTime": {
     "end_time": "2024-06-17T20:11:18.415809Z",
     "start_time": "2024-06-17T20:11:18.401437Z"
    }
   },
   "outputs": [
    {
     "data": {
      "text/html": [
       "<div>\n",
       "<style scoped>\n",
       "    .dataframe tbody tr th:only-of-type {\n",
       "        vertical-align: middle;\n",
       "    }\n",
       "\n",
       "    .dataframe tbody tr th {\n",
       "        vertical-align: top;\n",
       "    }\n",
       "\n",
       "    .dataframe thead th {\n",
       "        text-align: right;\n",
       "    }\n",
       "</style>\n",
       "<table border=\"1\" class=\"dataframe\">\n",
       "  <thead>\n",
       "    <tr style=\"text-align: right;\">\n",
       "      <th></th>\n",
       "      <th>Player</th>\n",
       "      <th>Salary</th>\n",
       "      <th>Rs</th>\n",
       "      <th>international</th>\n",
       "      <th>iconic</th>\n",
       "    </tr>\n",
       "  </thead>\n",
       "  <tbody>\n",
       "    <tr>\n",
       "      <th>0</th>\n",
       "      <td>Abhishek Porel</td>\n",
       "      <td>20 lakh</td>\n",
       "      <td>20</td>\n",
       "      <td>0</td>\n",
       "      <td>NaN</td>\n",
       "    </tr>\n",
       "    <tr>\n",
       "      <th>1</th>\n",
       "      <td>Anrich Nortje</td>\n",
       "      <td>6.5 crore</td>\n",
       "      <td>650</td>\n",
       "      <td>1</td>\n",
       "      <td>NaN</td>\n",
       "    </tr>\n",
       "  </tbody>\n",
       "</table>\n",
       "</div>"
      ],
      "text/plain": [
       "           Player     Salary   Rs  international  iconic\n",
       "0  Abhishek Porel    20 lakh   20              0     NaN\n",
       "1   Anrich Nortje  6.5 crore  650              1     NaN"
      ]
     },
     "execution_count": 5,
     "metadata": {},
     "output_type": "execute_result"
    }
   ],
   "source": [
    "ipl_salary.head(2)"
   ]
  },
  {
   "cell_type": "code",
   "execution_count": 6,
   "id": "00ad1fbf",
   "metadata": {
    "ExecuteTime": {
     "end_time": "2024-06-17T18:47:30.678527Z",
     "start_time": "2024-06-17T18:47:30.373074Z"
    }
   },
   "outputs": [],
   "source": [
    "grouped_data = ipl_bbb.groupby(['Season', 'Innings No', 'Striker','Bowler']).agg({'runs_scored': sum, 'wicket_confirmation':sum}).reset_index()"
   ]
  },
  {
   "cell_type": "code",
   "execution_count": 7,
   "id": "331874aa",
   "metadata": {
    "ExecuteTime": {
     "end_time": "2024-06-17T18:50:49.018065Z",
     "start_time": "2024-06-17T18:50:48.948158Z"
    }
   },
   "outputs": [],
   "source": [
    "player_runs = grouped_data.groupby(['Season', 'Striker'])['runs_scored'].sum().reset_index()\n",
    "player_wickets = grouped_data.groupby(['Season', 'Bowler'])['wicket_confirmation'].sum().reset_index()"
   ]
  },
  {
   "cell_type": "code",
   "execution_count": 29,
   "id": "91b9ac8b",
   "metadata": {
    "ExecuteTime": {
     "end_time": "2024-06-17T18:52:26.118735Z",
     "start_time": "2024-06-17T18:52:26.083040Z"
    }
   },
   "outputs": [
    {
     "data": {
      "text/html": [
       "<div>\n",
       "<style scoped>\n",
       "    .dataframe tbody tr th:only-of-type {\n",
       "        vertical-align: middle;\n",
       "    }\n",
       "\n",
       "    .dataframe tbody tr th {\n",
       "        vertical-align: top;\n",
       "    }\n",
       "\n",
       "    .dataframe thead th {\n",
       "        text-align: right;\n",
       "    }\n",
       "</style>\n",
       "<table border=\"1\" class=\"dataframe\">\n",
       "  <thead>\n",
       "    <tr style=\"text-align: right;\">\n",
       "      <th></th>\n",
       "      <th>Season</th>\n",
       "      <th>Striker</th>\n",
       "      <th>runs_scored</th>\n",
       "    </tr>\n",
       "  </thead>\n",
       "  <tbody>\n",
       "    <tr>\n",
       "      <th>2423</th>\n",
       "      <td>2023</td>\n",
       "      <td>Shubman Gill</td>\n",
       "      <td>890</td>\n",
       "    </tr>\n",
       "    <tr>\n",
       "      <th>2313</th>\n",
       "      <td>2023</td>\n",
       "      <td>F du Plessis</td>\n",
       "      <td>730</td>\n",
       "    </tr>\n",
       "    <tr>\n",
       "      <th>2311</th>\n",
       "      <td>2023</td>\n",
       "      <td>DP Conway</td>\n",
       "      <td>672</td>\n",
       "    </tr>\n",
       "    <tr>\n",
       "      <th>2433</th>\n",
       "      <td>2023</td>\n",
       "      <td>V Kohli</td>\n",
       "      <td>639</td>\n",
       "    </tr>\n",
       "    <tr>\n",
       "      <th>2443</th>\n",
       "      <td>2023</td>\n",
       "      <td>YBK Jaiswal</td>\n",
       "      <td>625</td>\n",
       "    </tr>\n",
       "    <tr>\n",
       "      <th>...</th>\n",
       "      <td>...</td>\n",
       "      <td>...</td>\n",
       "      <td>...</td>\n",
       "    </tr>\n",
       "    <tr>\n",
       "      <th>2404</th>\n",
       "      <td>2023</td>\n",
       "      <td>RP Meredith</td>\n",
       "      <td>0</td>\n",
       "    </tr>\n",
       "    <tr>\n",
       "      <th>2372</th>\n",
       "      <td>2023</td>\n",
       "      <td>Mohsin Khan</td>\n",
       "      <td>0</td>\n",
       "    </tr>\n",
       "    <tr>\n",
       "      <th>2307</th>\n",
       "      <td>2023</td>\n",
       "      <td>DG Nalkande</td>\n",
       "      <td>0</td>\n",
       "    </tr>\n",
       "    <tr>\n",
       "      <th>2429</th>\n",
       "      <td>2023</td>\n",
       "      <td>TU Deshpande</td>\n",
       "      <td>0</td>\n",
       "    </tr>\n",
       "    <tr>\n",
       "      <th>2324</th>\n",
       "      <td>2023</td>\n",
       "      <td>Harshit Rana</td>\n",
       "      <td>0</td>\n",
       "    </tr>\n",
       "  </tbody>\n",
       "</table>\n",
       "<p>177 rows × 3 columns</p>\n",
       "</div>"
      ],
      "text/plain": [
       "     Season       Striker  runs_scored\n",
       "2423   2023  Shubman Gill          890\n",
       "2313   2023  F du Plessis          730\n",
       "2311   2023     DP Conway          672\n",
       "2433   2023       V Kohli          639\n",
       "2443   2023   YBK Jaiswal          625\n",
       "...     ...           ...          ...\n",
       "2404   2023   RP Meredith            0\n",
       "2372   2023   Mohsin Khan            0\n",
       "2307   2023   DG Nalkande            0\n",
       "2429   2023  TU Deshpande            0\n",
       "2324   2023  Harshit Rana            0\n",
       "\n",
       "[177 rows x 3 columns]"
      ]
     },
     "execution_count": 29,
     "metadata": {},
     "output_type": "execute_result"
    }
   ],
   "source": [
    "player_runs[player_runs['Season']=='2023'].sort_values(by='runs_scored',ascending=False)"
   ]
  },
  {
   "cell_type": "code",
   "execution_count": 8,
   "id": "42fc1a03",
   "metadata": {
    "ExecuteTime": {
     "end_time": "2024-06-17T18:54:34.052611Z",
     "start_time": "2024-06-17T18:54:33.921973Z"
    }
   },
   "outputs": [
    {
     "name": "stdout",
     "output_type": "stream",
     "text": [
      "Top Three Run Getters:\n",
      "     Season          Striker  runs_scored\n",
      "0   2007/08         SE Marsh          616\n",
      "1   2007/08        G Gambhir          534\n",
      "2   2007/08    ST Jayasuriya          514\n",
      "3      2009        ML Hayden          572\n",
      "4      2009     AC Gilchrist          495\n",
      "5      2009   AB de Villiers          465\n",
      "6   2009/10     SR Tendulkar          618\n",
      "7   2009/10        JH Kallis          572\n",
      "8   2009/10         SK Raina          528\n",
      "9      2011         CH Gayle          608\n",
      "10     2011          V Kohli          557\n",
      "11     2011     SR Tendulkar          553\n",
      "12     2012         CH Gayle          733\n",
      "13     2012        G Gambhir          590\n",
      "14     2012         S Dhawan          569\n",
      "15     2013       MEK Hussey          733\n",
      "16     2013         CH Gayle          720\n",
      "17     2013          V Kohli          639\n",
      "18     2014       RV Uthappa          660\n",
      "19     2014         DR Smith          566\n",
      "20     2014       GJ Maxwell          552\n",
      "21     2015        DA Warner          562\n",
      "22     2015        AM Rahane          540\n",
      "23     2015      LMP Simmons          540\n",
      "24     2016          V Kohli          973\n",
      "25     2016        DA Warner          848\n",
      "26     2016   AB de Villiers          687\n",
      "27     2017        DA Warner          641\n",
      "28     2017        G Gambhir          498\n",
      "29     2017         S Dhawan          479\n",
      "30     2018    KS Williamson          735\n",
      "31     2018          RR Pant          684\n",
      "32     2018         KL Rahul          659\n",
      "33     2019        DA Warner          692\n",
      "34     2019         KL Rahul          593\n",
      "35     2019        Q de Kock          529\n",
      "36  2020/21         KL Rahul          676\n",
      "37  2020/21         S Dhawan          618\n",
      "38  2020/21        DA Warner          548\n",
      "39     2021       RD Gaikwad          635\n",
      "40     2021     F du Plessis          633\n",
      "41     2021         KL Rahul          626\n",
      "42     2022       JC Buttler          863\n",
      "43     2022         KL Rahul          616\n",
      "44     2022        Q de Kock          508\n",
      "45     2023     Shubman Gill          890\n",
      "46     2023     F du Plessis          730\n",
      "47     2023        DP Conway          672\n",
      "48     2024       RD Gaikwad          509\n",
      "49     2024          V Kohli          500\n",
      "50     2024  B Sai Sudharsan          418\n",
      "Top Three Wicket Takers:\n",
      "     Season           Bowler  wicket_confirmation\n",
      "0   2007/08    Sohail Tanvir                   24\n",
      "1   2007/08        IK Pathan                   20\n",
      "2   2007/08        JA Morkel                   20\n",
      "3      2009         RP Singh                   26\n",
      "4      2009         A Kumble                   22\n",
      "5      2009          A Nehra                   22\n",
      "6   2009/10          PP Ojha                   22\n",
      "7   2009/10         A Mishra                   20\n",
      "8   2009/10  Harbhajan Singh                   20\n",
      "9      2011       SL Malinga                   30\n",
      "10     2011         MM Patel                   22\n",
      "11     2011        S Aravind                   22\n",
      "12     2012         M Morkel                   30\n",
      "13     2012        SP Narine                   29\n",
      "14     2012       SL Malinga                   25\n",
      "15     2013         DJ Bravo                   34\n",
      "16     2013      JP Faulkner                   33\n",
      "17     2013    R Vinay Kumar                   27\n",
      "18     2014        MM Sharma                   26\n",
      "19     2014        SP Narine                   22\n",
      "20     2014          B Kumar                   21\n",
      "21     2015         DJ Bravo                   28\n",
      "22     2015       SL Malinga                   26\n",
      "23     2015          A Nehra                   25\n",
      "24     2016          B Kumar                   24\n",
      "25     2016        SR Watson                   23\n",
      "26     2016        YS Chahal                   22\n",
      "27     2017          B Kumar                   28\n",
      "28     2017       JD Unadkat                   27\n",
      "29     2017        JJ Bumrah                   23\n",
      "30     2018           AJ Tye                   28\n",
      "31     2018           S Kaul                   24\n",
      "32     2018      Rashid Khan                   23\n",
      "33     2019         K Rabada                   29\n",
      "34     2019      Imran Tahir                   26\n",
      "35     2019        JJ Bumrah                   23\n",
      "36  2020/21         K Rabada                   32\n",
      "37  2020/21        JJ Bumrah                   30\n",
      "38  2020/21         TA Boult                   26\n",
      "39     2021         HV Patel                   35\n",
      "40     2021       Avesh Khan                   27\n",
      "41     2021        JJ Bumrah                   22\n",
      "42     2022        YS Chahal                   29\n",
      "43     2022     PWH de Silva                   27\n",
      "44     2022         K Rabada                   23\n",
      "45     2023        MM Sharma                   31\n",
      "46     2023   Mohammed Shami                   28\n",
      "47     2023      Rashid Khan                   28\n",
      "48     2024         HV Patel                   19\n",
      "49     2024     Mukesh Kumar                   15\n",
      "50     2024   Arshdeep Singh                   14\n"
     ]
    }
   ],
   "source": [
    "top_run_getters = player_runs.groupby('Season').apply(lambda x: x.nlargest(3, 'runs_scored')).reset_index(drop=True)\n",
    "bottom_wicket_takers = player_wickets.groupby('Season').apply(lambda x: x.nlargest(3, 'wicket_confirmation')).reset_index(drop=True)\n",
    "print(\"Top Three Run Getters:\")\n",
    "print(top_run_getters)\n",
    "print(\"Top Three Wicket Takers:\")\n",
    "print(bottom_wicket_takers)"
   ]
  },
  {
   "cell_type": "code",
   "execution_count": 9,
   "id": "1d8cefcb",
   "metadata": {
    "ExecuteTime": {
     "end_time": "2024-06-17T18:59:43.066908Z",
     "start_time": "2024-06-17T18:59:42.895193Z"
    },
    "scrolled": true
   },
   "outputs": [],
   "source": [
    "ipl_year_id = pd.DataFrame(columns=[\"id\", \"year\"])\n",
    "ipl_year_id[\"id\"] = ipl_bbb[\"Match id\"]\n",
    "ipl_year_id[\"year\"] = pd.to_datetime(ipl_bbb[\"Date\"], dayfirst=True).dt.year"
   ]
  },
  {
   "cell_type": "code",
   "execution_count": 10,
   "id": "1ca892df",
   "metadata": {
    "ExecuteTime": {
     "end_time": "2024-06-17T19:08:09.199794Z",
     "start_time": "2024-06-17T19:08:09.036239Z"
    }
   },
   "outputs": [],
   "source": [
    "#create a copy of ipl_bbbc dataframe\n",
    "ipl_bbbc= ipl_bbb.copy()"
   ]
  },
  {
   "cell_type": "code",
   "execution_count": 11,
   "id": "05e04474",
   "metadata": {
    "ExecuteTime": {
     "end_time": "2024-06-17T19:08:28.976414Z",
     "start_time": "2024-06-17T19:08:28.839397Z"
    }
   },
   "outputs": [],
   "source": [
    "ipl_bbbc['year'] = pd.to_datetime(ipl_bbb[\"Date\"], dayfirst=True).dt.year"
   ]
  },
  {
   "cell_type": "code",
   "execution_count": 12,
   "id": "695a2d7f",
   "metadata": {
    "ExecuteTime": {
     "end_time": "2024-06-17T19:09:02.819985Z",
     "start_time": "2024-06-17T19:09:02.760242Z"
    }
   },
   "outputs": [
    {
     "data": {
      "text/html": [
       "<div>\n",
       "<style scoped>\n",
       "    .dataframe tbody tr th:only-of-type {\n",
       "        vertical-align: middle;\n",
       "    }\n",
       "\n",
       "    .dataframe tbody tr th {\n",
       "        vertical-align: top;\n",
       "    }\n",
       "\n",
       "    .dataframe thead th {\n",
       "        text-align: right;\n",
       "    }\n",
       "</style>\n",
       "<table border=\"1\" class=\"dataframe\">\n",
       "  <thead>\n",
       "    <tr style=\"text-align: right;\">\n",
       "      <th></th>\n",
       "      <th>Match id</th>\n",
       "      <th>year</th>\n",
       "      <th>runs_scored</th>\n",
       "      <th>wicket_confirmation</th>\n",
       "      <th>Bowler</th>\n",
       "      <th>Striker</th>\n",
       "    </tr>\n",
       "  </thead>\n",
       "  <tbody>\n",
       "    <tr>\n",
       "      <th>0</th>\n",
       "      <td>335982</td>\n",
       "      <td>2008</td>\n",
       "      <td>0</td>\n",
       "      <td>0</td>\n",
       "      <td>P Kumar</td>\n",
       "      <td>SC Ganguly</td>\n",
       "    </tr>\n",
       "    <tr>\n",
       "      <th>1</th>\n",
       "      <td>335982</td>\n",
       "      <td>2008</td>\n",
       "      <td>0</td>\n",
       "      <td>0</td>\n",
       "      <td>P Kumar</td>\n",
       "      <td>BB McCullum</td>\n",
       "    </tr>\n",
       "    <tr>\n",
       "      <th>2</th>\n",
       "      <td>335982</td>\n",
       "      <td>2008</td>\n",
       "      <td>0</td>\n",
       "      <td>0</td>\n",
       "      <td>P Kumar</td>\n",
       "      <td>BB McCullum</td>\n",
       "    </tr>\n",
       "    <tr>\n",
       "      <th>3</th>\n",
       "      <td>335982</td>\n",
       "      <td>2008</td>\n",
       "      <td>0</td>\n",
       "      <td>0</td>\n",
       "      <td>P Kumar</td>\n",
       "      <td>BB McCullum</td>\n",
       "    </tr>\n",
       "    <tr>\n",
       "      <th>4</th>\n",
       "      <td>335982</td>\n",
       "      <td>2008</td>\n",
       "      <td>0</td>\n",
       "      <td>0</td>\n",
       "      <td>P Kumar</td>\n",
       "      <td>BB McCullum</td>\n",
       "    </tr>\n",
       "  </tbody>\n",
       "</table>\n",
       "</div>"
      ],
      "text/plain": [
       "   Match id  year  runs_scored  wicket_confirmation   Bowler      Striker\n",
       "0    335982  2008            0                    0  P Kumar   SC Ganguly\n",
       "1    335982  2008            0                    0  P Kumar  BB McCullum\n",
       "2    335982  2008            0                    0  P Kumar  BB McCullum\n",
       "3    335982  2008            0                    0  P Kumar  BB McCullum\n",
       "4    335982  2008            0                    0  P Kumar  BB McCullum"
      ]
     },
     "execution_count": 12,
     "metadata": {},
     "output_type": "execute_result"
    }
   ],
   "source": [
    "ipl_bbbc[[\"Match id\", \"year\", \"runs_scored\",\"wicket_confirmation\",\"Bowler\",'Striker']].head()"
   ]
  },
  {
   "cell_type": "code",
   "execution_count": 13,
   "id": "85783410",
   "metadata": {
    "ExecuteTime": {
     "end_time": "2024-06-17T19:11:39.865256Z",
     "start_time": "2024-06-17T19:11:39.853673Z"
    }
   },
   "outputs": [],
   "source": [
    "import scipy.stats as st\n",
    "\n",
    "def get_best_distribution(data):\n",
    "    dist_names = ['alpha','beta','betaprime','burr12','crystalball',\n",
    "                  'dgamma','dweibull','erlang','exponnorm','f','fatiguelife',\n",
    "                  'gamma','gengamma','gumbel_l','johnsonsb','kappa4',\n",
    "                  'lognorm','nct','norm','norminvgauss','powernorm','rice',\n",
    "                  'recipinvgauss','t','trapz','truncnorm']\n",
    "    dist_results = []\n",
    "    params = {}\n",
    "    for dist_name in dist_names:\n",
    "        dist = getattr(st, dist_name)\n",
    "        param = dist.fit(data)\n",
    "        params[dist_name] = param\n",
    "        # Applying the Kolmogorov-Smirnov test\n",
    "        D, p = st.kstest(data, dist_name, args=param)\n",
    "        print(\"p value for \"+dist_name+\" = \"+str(p))\n",
    "        dist_results.append((dist_name, p))\n",
    "    # select the best fitted distribution\n",
    "    best_dist, best_p = (max(dist_results, key=lambda item: item[1]))\n",
    "    # store the name of the best fit and its p value\n",
    "    print(\"\\nBest fitting distribution: \"+str(best_dist))\n",
    "    print(\"Best p value: \"+ str(best_p))\n",
    "    print(\"Parameters for the best fit: \"+ str(params[best_dist]))\n",
    "    return best_dist, best_p, params[best_dist]"
   ]
  },
  {
   "cell_type": "code",
   "execution_count": 14,
   "id": "55e15b78",
   "metadata": {
    "ExecuteTime": {
     "end_time": "2024-06-17T19:12:26.492491Z",
     "start_time": "2024-06-17T19:12:26.388891Z"
    }
   },
   "outputs": [],
   "source": [
    "total_run_each_year = ipl_bbbc.groupby([\"year\", \"Striker\"])[\"runs_scored\"].sum().reset_index()"
   ]
  },
  {
   "cell_type": "code",
   "execution_count": 48,
   "id": "7ddf1dfe",
   "metadata": {
    "ExecuteTime": {
     "end_time": "2024-06-17T19:13:56.257180Z",
     "start_time": "2024-06-17T19:13:56.244475Z"
    }
   },
   "outputs": [
    {
     "name": "stdout",
     "output_type": "stream",
     "text": [
      "      year          Striker  runs_scored\n",
      "2549  2024       RD Gaikwad          509\n",
      "2589  2024          V Kohli          500\n",
      "2470  2024  B Sai Sudharsan          418\n",
      "2502  2024         KL Rahul          406\n",
      "2555  2024          RR Pant          398\n",
      "...    ...              ...          ...\n",
      "58    2008         L Balaji            0\n",
      "66    2008   M Muralitharan            0\n",
      "75    2008         MM Patel            0\n",
      "107   2008      S Sreesanth            0\n",
      "136   2008           U Kaul            0\n",
      "\n",
      "[2598 rows x 3 columns]\n"
     ]
    }
   ],
   "source": [
    "total_run_each_year.sort_values([\"year\", \"runs_scored\"], ascending=False, inplace=True)\n",
    "print(total_run_each_year)"
   ]
  },
  {
   "cell_type": "code",
   "execution_count": 15,
   "id": "d75c7310",
   "metadata": {
    "ExecuteTime": {
     "end_time": "2024-06-17T19:16:23.864219Z",
     "start_time": "2024-06-17T19:16:23.854326Z"
    }
   },
   "outputs": [],
   "source": [
    "list_top_batsman_last_three_year = {}\n",
    "for i in total_run_each_year[\"year\"].unique()[:3]:\n",
    "    list_top_batsman_last_three_year[i] = total_run_each_year[total_run_each_year.year == i][:3][\"Striker\"].unique().tolist()"
   ]
  },
  {
   "cell_type": "code",
   "execution_count": 16,
   "id": "c5b07d43",
   "metadata": {
    "ExecuteTime": {
     "end_time": "2024-06-17T19:16:29.605035Z",
     "start_time": "2024-06-17T19:16:29.596636Z"
    }
   },
   "outputs": [
    {
     "data": {
      "text/plain": [
       "{2008: ['A Chopra', 'A Kumble', 'A Mishra'],\n",
       " 2009: ['A Chopra', 'A Flintoff', 'A Kumble'],\n",
       " 2010: ['A Kumble', 'A Mishra', 'A Mithun']}"
      ]
     },
     "execution_count": 16,
     "metadata": {},
     "output_type": "execute_result"
    }
   ],
   "source": [
    "list_top_batsman_last_three_year"
   ]
  },
  {
   "cell_type": "code",
   "execution_count": 56,
   "id": "80d9466a",
   "metadata": {
    "ExecuteTime": {
     "end_time": "2024-06-17T19:22:35.982497Z",
     "start_time": "2024-06-17T19:21:10.039474Z"
    }
   },
   "outputs": [
    {
     "name": "stdout",
     "output_type": "stream",
     "text": [
      "************************\n",
      "year: 2024  Batsman: RD Gaikwad\n",
      "p value for alpha = 2.599259711013304e-20\n",
      "p value for beta = 0.02041902689492492\n",
      "p value for betaprime = 0.0195037635986679\n",
      "p value for burr12 = 0.46882020698395865\n",
      "p value for crystalball = 0.24953646987270617\n",
      "p value for dgamma = 0.1570743843120962\n",
      "p value for dweibull = 0.20046582403736823\n",
      "p value for erlang = 1.893799588395604e-06\n",
      "p value for exponnorm = 0.4644304230917985\n",
      "p value for f = 1.3560920695663998e-07\n",
      "p value for fatiguelife = 1.304427037367869e-14\n",
      "p value for gamma = 0.005830868576003456\n",
      "p value for gengamma = 0.015331622187827243\n",
      "p value for gumbel_l = 0.05546236480086464\n",
      "p value for johnsonsb = 4.646964117947127e-13\n",
      "p value for kappa4 = 0.006363220770325362\n",
      "p value for lognorm = 1.1719355665219537e-16\n",
      "p value for nct = 0.5881570496217812\n",
      "p value for norm = 0.2495365180930973\n",
      "p value for norminvgauss = 0.5538573365184996\n",
      "p value for powernorm = 0.1788753268739085\n",
      "p value for rice = 0.18287532184336575\n",
      "p value for recipinvgauss = 0.06459275668874154\n",
      "p value for t = 0.24940214859112086\n",
      "p value for trapz = 7.476391685388162e-13\n",
      "p value for truncnorm = 0.24173236832621992\n",
      "\n",
      "Best fitting distribution: nct\n",
      "Best p value: 0.5881570496217812\n",
      "Parameters for the best fit: (5.718048022849898, 9.399490726283615, -54.25277343780452, 8.497060689079994)\n",
      "\n",
      "\n",
      "\n",
      "************************\n",
      "year: 2024  Batsman: V Kohli\n",
      "p value for alpha = 0.15371704349416937\n",
      "p value for beta = 0.7807091136830002\n",
      "p value for betaprime = 0.15634788776461095\n",
      "p value for burr12 = 0.2201385645469427\n",
      "p value for crystalball = 0.0013439120565839657\n",
      "p value for dgamma = 0.00010919434981556638\n",
      "p value for dweibull = 0.00012533056352014233\n",
      "p value for erlang = 1.7690285330312436e-06\n",
      "p value for exponnorm = 0.19376408619173924\n",
      "p value for f = 2.67581083049327e-28\n",
      "p value for fatiguelife = 0.11580928039819094\n",
      "p value for gamma = 0.00878530144799014\n",
      "p value for gengamma = 0.12789719547406364\n",
      "p value for gumbel_l = 9.544555237684654e-09\n",
      "p value for johnsonsb = 0.6600676697983927\n",
      "p value for kappa4 = 7.270307243307106e-18\n",
      "p value for lognorm = 6.635544190553261e-64\n",
      "p value for nct = 0.1460773085917223\n",
      "p value for norm = 0.0013439146566564463\n",
      "p value for norminvgauss = 0.16537494306738054\n",
      "p value for powernorm = 0.001959224898154651\n",
      "p value for rice = 0.0019496833019799402\n",
      "p value for recipinvgauss = 0.08835236633247623\n",
      "p value for t = 0.001870132740059356\n",
      "p value for trapz = 3.7326843413039495e-73\n",
      "p value for truncnorm = 0.08872852288813304\n",
      "\n",
      "Best fitting distribution: beta\n",
      "Best p value: 0.7807091136830002\n",
      "Parameters for the best fit: (0.816277299300862, 2.3391761669196907, -3.0251144495756596e-31, 130.79371484721577)\n",
      "\n",
      "\n",
      "\n",
      "************************\n",
      "year: 2024  Batsman: B Sai Sudharsan\n",
      "p value for alpha = 0.9519530946513592\n",
      "p value for beta = 0.28003742726857905\n",
      "p value for betaprime = 0.7272275700648236\n",
      "p value for burr12 = 0.03413730383965219\n",
      "p value for crystalball = 0.835174953613428\n",
      "p value for dgamma = 0.9003132708081405\n",
      "p value for dweibull = 0.8965770306228721\n",
      "p value for erlang = 0.2710277691398305\n",
      "p value for exponnorm = 0.8246418777999891\n",
      "p value for f = 0.9743698554720728\n",
      "p value for fatiguelife = 0.8259440652110397\n",
      "p value for gamma = 0.004088711345359375\n",
      "p value for gengamma = 0.02968884832662888\n",
      "p value for gumbel_l = 0.391243924609637\n",
      "p value for johnsonsb = 0.6775536294207896\n",
      "p value for kappa4 = 0.04273156928199129\n",
      "p value for lognorm = 0.9006026891568572\n",
      "p value for nct = 0.9627359408368513\n",
      "p value for norm = 0.8351750214399875\n",
      "p value for norminvgauss = 0.8696382419018381\n",
      "p value for powernorm = 0.837790705015941\n",
      "p value for rice = 0.8419161308192361\n",
      "p value for recipinvgauss = 0.7846020832234206\n",
      "p value for t = 0.8945403499225024\n",
      "p value for trapz = 4.962305050994183e-07\n",
      "p value for truncnorm = 0.8112138570439418\n",
      "\n",
      "Best fitting distribution: f\n",
      "Best p value: 0.9743698554720728\n",
      "Parameters for the best fit: (7.230079711691059, 94.80999484543659, -0.46870159044880233, 39.84202109781083)\n",
      "\n",
      "\n",
      "\n",
      "************************\n",
      "year: 2023  Batsman: Shubman Gill\n",
      "p value for alpha = 0.19370998562525277\n",
      "p value for beta = 0.35556757767764935\n",
      "p value for betaprime = 0.3320890781747331\n",
      "p value for burr12 = 0.17538338566759049\n",
      "p value for crystalball = 0.040473102370626846\n",
      "p value for dgamma = 0.004654508243065125\n",
      "p value for dweibull = 0.011388953681876424\n",
      "p value for erlang = 0.10415431199992453\n",
      "p value for exponnorm = 0.40764798429861215\n",
      "p value for f = 1.211921514554867e-19\n",
      "p value for fatiguelife = 0.220391503090979\n",
      "p value for gamma = 0.019326052677511196\n",
      "p value for gengamma = 0.15830394669705838\n",
      "p value for gumbel_l = 0.00016365306017313027\n",
      "p value for johnsonsb = 0.6214006077216168\n",
      "p value for kappa4 = 8.537718673686839e-12\n",
      "p value for lognorm = 3.0444374367609376e-26\n",
      "p value for nct = 0.10819705795130274\n",
      "p value for norm = 0.04047307253461263\n",
      "p value for norminvgauss = 0.2256809493002525\n",
      "p value for powernorm = 0.008933578018931354\n",
      "p value for rice = 0.009231529839363262\n",
      "p value for recipinvgauss = 0.25695076184687626\n",
      "p value for t = 0.06288757117419963\n",
      "p value for trapz = 7.559368072972744e-39\n",
      "p value for truncnorm = 0.03322263046428764\n",
      "\n",
      "Best fitting distribution: johnsonsb\n",
      "Best p value: 0.6214006077216168\n",
      "Parameters for the best fit: (1.127462972555547, 0.7082040622620326, -1.0785135120261573, 140.5794643798755)\n",
      "\n",
      "\n",
      "\n",
      "************************\n",
      "year: 2023  Batsman: F du Plessis\n",
      "p value for alpha = 2.6514415564811303e-46\n",
      "p value for beta = 0.5913252599657466\n",
      "p value for betaprime = 0.21607006903997872\n",
      "p value for burr12 = 1.4054517820032704e-09\n",
      "p value for crystalball = 0.17738239944644252\n",
      "p value for dgamma = 0.0192505709952403\n",
      "p value for dweibull = 0.11610399857369136\n",
      "p value for erlang = 1.5300500072467267e-05\n",
      "p value for exponnorm = 0.029960734734523542\n",
      "p value for f = 2.3763783336197345e-18\n",
      "p value for fatiguelife = 0.4484315774329326\n",
      "p value for gamma = 2.658122267546294e-07\n",
      "p value for gengamma = 0.02408727588734938\n",
      "p value for gumbel_l = 0.0014475463566171465\n",
      "p value for johnsonsb = 0.18738807412325909\n",
      "p value for kappa4 = 7.855215717595119e-07\n",
      "p value for lognorm = 7.76777670084355e-36\n",
      "p value for nct = 0.3074928968583557\n",
      "p value for norm = 0.1773824188508334\n",
      "p value for norminvgauss = 0.5294908193576565\n",
      "p value for powernorm = 0.10747661134694209\n",
      "p value for rice = 0.10596246415943456\n",
      "p value for recipinvgauss = 0.25232880325823404\n",
      "p value for t = 0.17742481659951237\n",
      "p value for trapz = 2.2917131806009114e-31\n",
      "p value for truncnorm = 0.4976264771179164\n",
      "\n",
      "Best fitting distribution: beta\n",
      "Best p value: 0.5913252599657466\n",
      "Parameters for the best fit: (0.964930449377772, 2.3654747855916978, -2.4979006319546827e-31, 110.45316400426368)\n",
      "\n",
      "\n",
      "\n",
      "************************\n",
      "year: 2023  Batsman: DP Conway\n",
      "p value for alpha = 0.24224437379078445\n",
      "p value for beta = 0.9335739280635688\n",
      "p value for betaprime = 0.5939028036769798\n",
      "p value for burr12 = 0.03168649038236593\n",
      "p value for crystalball = 0.5919833978299178\n",
      "p value for dgamma = 0.659050680685497\n",
      "p value for dweibull = 0.47709033274534696\n",
      "p value for erlang = 0.5856582107400496\n",
      "p value for exponnorm = 0.5919442519144027\n",
      "p value for f = 0.03191068848461143\n",
      "p value for fatiguelife = 2.4470875845519328e-05\n",
      "p value for gamma = 0.5772798774478447\n",
      "p value for gengamma = 0.010638224653254702\n",
      "p value for gumbel_l = 0.6434008985606366\n",
      "p value for johnsonsb = 0.0010884744390042833\n",
      "p value for kappa4 = 0.39160448071756937\n",
      "p value for lognorm = 3.1507840694396127e-06\n",
      "p value for nct = 0.5925999092825844\n",
      "p value for norm = 0.5919834368439854\n",
      "p value for norminvgauss = 0.5925748844419921\n",
      "p value for powernorm = 0.45248629955798125\n",
      "p value for rice = 0.45768623194758373\n",
      "p value for recipinvgauss = 0.031005955700377452\n",
      "p value for t = 0.5919821236916709\n",
      "p value for trapz = 0.002896838839657856\n",
      "p value for truncnorm = 0.2820881279467663\n",
      "\n",
      "Best fitting distribution: beta\n",
      "Best p value: 0.9335739280635688\n",
      "Parameters for the best fit: (0.6250316512826838, 0.6786342050356671, -3.4741633120498916, 95.47416331204991)\n",
      "\n",
      "\n",
      "\n",
      "************************\n",
      "year: 2022  Batsman: JC Buttler\n",
      "p value for alpha = 3.235109657468491e-34\n",
      "p value for beta = 0.33455794816369444\n",
      "p value for betaprime = 0.0040250475185371615\n",
      "p value for burr12 = 0.7069656630104211\n",
      "p value for crystalball = 0.004608459861307201\n",
      "p value for dgamma = 0.00604199317470544\n",
      "p value for dweibull = 0.0028430680547548715\n",
      "p value for erlang = 0.0018449508774974754\n",
      "p value for exponnorm = 0.7137955109895673\n",
      "p value for f = 3.9553917967759444e-17\n",
      "p value for fatiguelife = 0.3817917882201278\n",
      "p value for gamma = 0.0007081454329525005\n",
      "p value for gengamma = 0.3058332808341898\n",
      "p value for gumbel_l = 0.00010416429669054019\n",
      "p value for johnsonsb = 0.5217216451704005\n",
      "p value for kappa4 = 1.0421737381705364e-12\n",
      "p value for lognorm = 5.0571684202935185e-28\n",
      "p value for nct = 0.45209196275779084\n",
      "p value for norm = 0.004608461486487414\n",
      "p value for norminvgauss = 0.4852525149516915\n",
      "p value for powernorm = 0.004689395332742374\n",
      "p value for rice = 0.004972139278293097\n",
      "p value for recipinvgauss = 0.2745923469661907\n",
      "p value for t = 0.007226707680555\n",
      "p value for trapz = 8.531784262849386e-37\n",
      "p value for truncnorm = 0.038943153796554775\n",
      "\n",
      "Best fitting distribution: exponnorm\n",
      "Best p value: 0.7137955109895673\n",
      "Parameters for the best fit: (3054.885295608514, -0.031805252610631926, 0.01119090499814962)\n",
      "\n",
      "\n",
      "\n",
      "************************\n",
      "year: 2022  Batsman: KL Rahul\n",
      "p value for alpha = 3.439822697019343e-50\n",
      "p value for beta = 0.3005191042009908\n",
      "p value for betaprime = 0.3083252430394988\n",
      "p value for burr12 = 0.46187713102710526\n",
      "p value for crystalball = 0.02169172684247256\n",
      "p value for dgamma = 0.06770258558041709\n",
      "p value for dweibull = 0.10186919378179626\n",
      "p value for erlang = 0.5713953642722212\n",
      "p value for exponnorm = 0.2160721375507495\n",
      "p value for f = 3.271576641222778e-23\n",
      "p value for fatiguelife = 0.4121975839714658\n",
      "p value for gamma = 0.5713982751559553\n",
      "p value for gengamma = 0.16010152392031485\n",
      "p value for gumbel_l = 0.0016806774551016979\n",
      "p value for johnsonsb = 0.9402453631468569\n",
      "p value for kappa4 = 1.3895397566735892e-07\n",
      "p value for lognorm = 9.796218603186654e-32\n",
      "p value for nct = 0.20349727522799965\n",
      "p value for norm = 0.021691727067097988\n",
      "p value for norminvgauss = 0.3817037858973431\n",
      "p value for powernorm = 0.02664556549931174\n",
      "p value for rice = 0.027062729391134077\n",
      "p value for recipinvgauss = 0.442689536665992\n",
      "p value for t = 0.02169408819105212\n",
      "p value for trapz = 1.8532732379092856e-35\n",
      "p value for truncnorm = 0.6753901355264902\n",
      "\n",
      "Best fitting distribution: johnsonsb\n",
      "Best p value: 0.9402453631468569\n",
      "Parameters for the best fit: (0.9331207997896902, 0.7776389044559282, -2.345202857963142, 143.0833194837059)\n",
      "\n",
      "\n",
      "\n",
      "************************\n",
      "year: 2022  Batsman: Q de Kock\n",
      "p value for alpha = 0.22421213312317712\n",
      "p value for beta = 0.2878667203270271\n",
      "p value for betaprime = 0.057402804910011485\n",
      "p value for burr12 = 0.4931279667432148\n",
      "p value for crystalball = 0.05846912701914364\n",
      "p value for dgamma = 0.0014560083713105465\n",
      "p value for dweibull = 0.010478670398011536\n",
      "p value for erlang = 0.08677035591445126\n",
      "p value for exponnorm = 0.43726373790797446\n",
      "p value for f = 4.2346585152678845e-12\n",
      "p value for fatiguelife = 0.12498847851930417\n",
      "p value for gamma = 0.027350558506527678\n",
      "p value for gengamma = 0.09268925126776417\n",
      "p value for gumbel_l = 9.485045980257123e-06\n",
      "p value for johnsonsb = 0.3450941869097196\n",
      "p value for kappa4 = 3.832745782875419e-18\n",
      "p value for lognorm = 2.3658846096591403e-28\n",
      "p value for nct = 0.28433024606381097\n",
      "p value for norm = 0.058469111112182226\n",
      "p value for norminvgauss = 0.2268711891858607\n",
      "p value for powernorm = 0.03382371687362962\n",
      "p value for rice = 0.03349090516310227\n",
      "p value for recipinvgauss = 0.1073883725317526\n",
      "p value for t = 0.041656498991066715\n",
      "p value for trapz = 3.947363741930107e-50\n",
      "p value for truncnorm = 0.08860764609496041\n",
      "\n",
      "Best fitting distribution: burr12\n",
      "Best p value: 0.4931279667432148\n",
      "Parameters for the best fit: (590926023.7998527, 0.05483081555360233, -969803927.022117, 969803927.160071)\n",
      "\n",
      "\n",
      "\n"
     ]
    }
   ],
   "source": [
    "import warnings\n",
    "warnings.filterwarnings('ignore')\n",
    "runs = ipl_bbbc.groupby(['Striker','Match id'])[['runs_scored']].sum().reset_index()\n",
    "\n",
    "for key in list_top_batsman_last_three_year:\n",
    "    for Striker in list_top_batsman_last_three_year[key]:\n",
    "        print(\"************************\")\n",
    "        print(\"year:\", key, \" Batsman:\", Striker)\n",
    "        get_best_distribution(runs[runs[\"Striker\"] == Striker][\"runs_scored\"])\n",
    "        print(\"\\n\\n\")"
   ]
  },
  {
   "cell_type": "code",
   "execution_count": 17,
   "id": "2ff8cda8",
   "metadata": {
    "ExecuteTime": {
     "end_time": "2024-06-17T19:22:49.634423Z",
     "start_time": "2024-06-17T19:22:49.547942Z"
    }
   },
   "outputs": [],
   "source": [
    "total_wicket_each_year = ipl_bbbc.groupby([\"year\", \"Bowler\"])[\"wicket_confirmation\"].sum().reset_index()"
   ]
  },
  {
   "cell_type": "code",
   "execution_count": 18,
   "id": "b6a46d55",
   "metadata": {
    "ExecuteTime": {
     "end_time": "2024-06-17T19:23:10.311435Z",
     "start_time": "2024-06-17T19:23:10.298595Z"
    }
   },
   "outputs": [
    {
     "name": "stdout",
     "output_type": "stream",
     "text": [
      "      year             Bowler  wicket_confirmation\n",
      "1836  2024           HV Patel                   19\n",
      "1875  2024       Mukesh Kumar                   15\n",
      "1822  2024     Arshdeep Singh                   14\n",
      "1842  2024          JJ Bumrah                   14\n",
      "1876  2024  Mustafizur Rahman                   14\n",
      "...    ...                ...                  ...\n",
      "16    2008           CL White                    0\n",
      "41    2008             K Goel                    0\n",
      "43    2008          LPC Silva                    0\n",
      "60    2008       Pankaj Singh                    0\n",
      "90    2008        VS Yeligati                    0\n",
      "\n",
      "[1929 rows x 3 columns]\n"
     ]
    }
   ],
   "source": [
    "total_wicket_each_year.sort_values([\"year\", \"wicket_confirmation\"], ascending=False, inplace=True)\n",
    "print(total_wicket_each_year)"
   ]
  },
  {
   "cell_type": "code",
   "execution_count": 19,
   "id": "837998fd",
   "metadata": {
    "ExecuteTime": {
     "end_time": "2024-06-17T19:24:02.853357Z",
     "start_time": "2024-06-17T19:24:02.840409Z"
    }
   },
   "outputs": [
    {
     "data": {
      "text/plain": [
       "{2024: ['HV Patel', 'Mukesh Kumar', 'Arshdeep Singh'],\n",
       " 2023: ['MM Sharma', 'Mohammed Shami', 'Rashid Khan'],\n",
       " 2022: ['YS Chahal', 'PWH de Silva', 'K Rabada']}"
      ]
     },
     "execution_count": 19,
     "metadata": {},
     "output_type": "execute_result"
    }
   ],
   "source": [
    "list_top_bowler_last_three_year = {}\n",
    "for i in total_wicket_each_year[\"year\"].unique()[:3]:\n",
    "    list_top_bowler_last_three_year[i] = total_wicket_each_year[total_wicket_each_year.year == i][:3][\"Bowler\"].unique().tolist()\n",
    "list_top_bowler_last_three_year"
   ]
  },
  {
   "cell_type": "code",
   "execution_count": 66,
   "id": "6bab9324",
   "metadata": {
    "ExecuteTime": {
     "end_time": "2024-06-17T19:41:47.739428Z",
     "start_time": "2024-06-17T19:40:24.043467Z"
    },
    "scrolled": true
   },
   "outputs": [
    {
     "name": "stdout",
     "output_type": "stream",
     "text": [
      "************************\n",
      "year: 2024  Bowler: HV Patel\n",
      "p value for alpha = 0.0002993252328930706\n",
      "p value for beta = 2.777571908776589e-19\n",
      "p value for betaprime = 1.7052883875145053e-30\n",
      "p value for burr12 = 5.427998338605459e-15\n",
      "p value for crystalball = 1.1109118198587684e-05\n",
      "p value for dgamma = 4.375428528574276e-05\n",
      "p value for dweibull = 1.8553295107771936e-05\n",
      "p value for erlang = 5.473635282991912e-24\n",
      "p value for exponnorm = 0.0002813279943461815\n",
      "p value for f = 1.9012983291282487e-09\n",
      "p value for fatiguelife = 1.9734428958773156e-05\n",
      "p value for gamma = 1.470787431589663e-16\n",
      "p value for gengamma = 1.4345058849022962e-16\n",
      "p value for gumbel_l = 4.541523588271283e-05\n",
      "p value for johnsonsb = 2.827201329331457e-51\n",
      "p value for kappa4 = 9.177530010006471e-23\n",
      "p value for lognorm = 5.2162358572043325e-22\n",
      "p value for nct = 0.0001960277304576293\n",
      "p value for norm = 1.1109124960635979e-05\n",
      "p value for norminvgauss = 3.811196478020768e-05\n",
      "p value for powernorm = 3.2186417463058256e-05\n",
      "p value for rice = 3.354567282896991e-05\n",
      "p value for recipinvgauss = 5.05058721389515e-12\n",
      "p value for t = 9.451105792399515e-05\n",
      "p value for trapz = 1.0447243016629734e-51\n",
      "p value for truncnorm = 0.0002182292327632623\n",
      "\n",
      "Best fitting distribution: alpha\n",
      "Best p value: 0.0002993252328930706\n",
      "Parameters for the best fit: (5.200800514990576, -4.106246473111661, 27.580368990504883)\n",
      "\n",
      "\n",
      "\n",
      "************************\n",
      "year: 2024  Bowler: Mukesh Kumar\n",
      "p value for alpha = 0.6028771589628603\n",
      "p value for beta = 0.01195401496533166\n",
      "p value for betaprime = 0.0010598932359472402\n",
      "p value for burr12 = 0.1357754795231697\n",
      "p value for crystalball = 0.2874602836058904\n",
      "p value for dgamma = 0.31965148068347327\n",
      "p value for dweibull = 0.34346643238289587\n",
      "p value for erlang = 1.0115032724485677e-06\n",
      "p value for exponnorm = 0.5154597105302978\n",
      "p value for f = 0.11745949856748206\n",
      "p value for fatiguelife = 0.30877430134651207\n",
      "p value for gamma = 0.009841759821405782\n",
      "p value for gengamma = 0.07933719921899463\n",
      "p value for gumbel_l = 0.25997636144422587\n",
      "p value for johnsonsb = 0.08788077953204243\n",
      "p value for kappa4 = 0.058739565059041765\n",
      "p value for lognorm = 0.00048729251059054235\n",
      "p value for nct = 0.5480580718802858\n",
      "p value for norm = 0.2874600799525868\n",
      "p value for norminvgauss = 0.3895684674359622\n",
      "p value for powernorm = 0.39511432172869\n",
      "p value for rice = 0.3950169895189477\n",
      "p value for recipinvgauss = 0.025198651172109288\n",
      "p value for t = 0.2874574742538948\n",
      "p value for trapz = 9.722628535925783e-06\n",
      "p value for truncnorm = 0.2598105493516787\n",
      "\n",
      "Best fitting distribution: alpha\n",
      "Best p value: 0.6028771589628603\n",
      "Parameters for the best fit: (6.113363581345144, -5.245777123804531, 39.57745263632695)\n",
      "\n",
      "\n",
      "\n",
      "************************\n",
      "year: 2024  Bowler: Arshdeep Singh\n",
      "p value for alpha = 0.002547644307209551\n",
      "p value for beta = 3.7725133611153275e-15\n",
      "p value for betaprime = 5.062381659741898e-22\n",
      "p value for burr12 = 4.603956720503075e-14\n",
      "p value for crystalball = 0.0002501762149918564\n",
      "p value for dgamma = 0.00028566200697101806\n",
      "p value for dweibull = 0.0016211491850549598\n",
      "p value for erlang = 2.269289539862191e-12\n",
      "p value for exponnorm = 0.0019097947631191436\n",
      "p value for f = 0.000227258408802241\n",
      "p value for fatiguelife = 2.169103029961132e-15\n",
      "p value for gamma = 6.618486511618167e-29\n",
      "p value for gengamma = 5.948936850168967e-23\n",
      "p value for gumbel_l = 0.00026864389982599567\n",
      "p value for johnsonsb = 5.472387372640376e-24\n",
      "p value for kappa4 = 8.181970339328129e-12\n",
      "p value for lognorm = 1.9909678840157557e-12\n",
      "p value for nct = 0.0014257070102444702\n",
      "p value for norm = 0.00025017539197677184\n",
      "p value for norminvgauss = 0.0001290021448063343\n",
      "p value for powernorm = 0.00047137775975730436\n",
      "p value for rice = 0.00047472774494963083\n",
      "p value for recipinvgauss = 1.9623061606588953e-10\n",
      "p value for t = 0.004473243416689088\n",
      "p value for trapz = 1.1911079182772876e-29\n",
      "p value for truncnorm = 0.00034221379785853717\n",
      "\n",
      "Best fitting distribution: t\n",
      "Best p value: 0.004473243416689088\n",
      "Parameters for the best fit: (4.822497644715119, 1.1162819391895469, 0.9153269129308039)\n",
      "\n",
      "\n",
      "\n",
      "************************\n",
      "year: 2023  Bowler: MM Sharma\n",
      "p value for alpha = 5.261792307574885e-09\n",
      "p value for beta = 3.369903415982389e-18\n",
      "p value for betaprime = 3.4236065288569164e-34\n",
      "p value for burr12 = 7.707563359968149e-27\n",
      "p value for crystalball = 5.614290141391915e-05\n",
      "p value for dgamma = 1.0498635614441156e-05\n",
      "p value for dweibull = 2.4126502201215078e-05\n",
      "p value for erlang = 2.203151538560566e-17\n",
      "p value for exponnorm = 7.116980583029457e-10\n",
      "p value for f = 6.394862208673673e-10\n",
      "p value for fatiguelife = 1.3371709463319658e-24\n",
      "p value for gamma = 2.599880000032353e-21\n",
      "p value for gengamma = 9.811276806787944e-14\n",
      "p value for gumbel_l = 3.5245319536008275e-05\n",
      "p value for johnsonsb = 2.4461951672713995e-40\n",
      "p value for kappa4 = 1.804941215806713e-17\n",
      "p value for lognorm = 1.7804559351656542e-19\n",
      "p value for nct = 6.513780696080299e-05\n",
      "p value for norm = 5.614083233477072e-05\n",
      "p value for norminvgauss = 2.385888242491267e-11\n",
      "p value for powernorm = 3.7448415090755237e-05\n",
      "p value for rice = 3.8846082842387146e-05\n",
      "p value for recipinvgauss = 1.932872667384276e-17\n",
      "p value for t = 0.00012008020713636171\n",
      "p value for trapz = 9.04818074400941e-47\n",
      "p value for truncnorm = 6.39486602704708e-10\n",
      "\n",
      "Best fitting distribution: t\n",
      "Best p value: 0.00012008020713636171\n",
      "Parameters for the best fit: (29.05846643939152, 1.2878076424619436, 1.197404368883093)\n",
      "\n",
      "\n",
      "\n",
      "************************\n",
      "year: 2023  Bowler: Mohammed Shami\n",
      "p value for alpha = 0.0005609846480252995\n",
      "p value for beta = 8.949702621553806e-16\n",
      "p value for betaprime = 1.0457228098472159e-27\n",
      "p value for burr12 = 3.809437306589196e-09\n",
      "p value for crystalball = 8.97379813361614e-06\n",
      "p value for dgamma = 1.3065638273544516e-11\n",
      "p value for dweibull = 1.0406851960138218e-05\n",
      "p value for erlang = 8.670599832745995e-28\n",
      "p value for exponnorm = 0.00047630665162716083\n",
      "p value for f = 2.404756281608377e-07\n",
      "p value for fatiguelife = 7.5219130194197114e-06\n",
      "p value for gamma = 5.248327144461885e-42\n",
      "p value for gengamma = 4.371554773381843e-42\n",
      "p value for gumbel_l = 2.275582226089825e-06\n",
      "p value for johnsonsb = 8.40193769288202e-62\n",
      "p value for kappa4 = 5.440679375551408e-12\n",
      "p value for lognorm = 8.538407160860825e-23\n",
      "p value for nct = 0.0003740512893746841\n",
      "p value for norm = 8.973880770320002e-06\n",
      "p value for norminvgauss = 3.3178705246034226e-05\n",
      "p value for powernorm = 0.00011849751955444802\n",
      "p value for rice = 0.00011833002960228116\n",
      "p value for recipinvgauss = 1.957916752902072e-07\n",
      "p value for t = 8.972846375529713e-06\n",
      "p value for trapz = 1.8983891174798298e-38\n",
      "p value for truncnorm = 2.539236515610462e-06\n",
      "\n",
      "Best fitting distribution: alpha\n",
      "Best p value: 0.0005609846480252995\n",
      "Parameters for the best fit: (6.734843933630203, -5.500744811228249, 44.826257131250145)\n",
      "\n",
      "\n",
      "\n",
      "************************\n",
      "year: 2023  Bowler: Rashid Khan\n",
      "p value for alpha = 1.4259399000489275e-06\n",
      "p value for beta = 8.8954046965209e-27\n",
      "p value for betaprime = 3.407105814148136e-65\n",
      "p value for burr12 = 2.5587675833251047e-18\n",
      "p value for crystalball = 2.99049361738744e-09\n",
      "p value for dgamma = 6.928485900596178e-10\n",
      "p value for dweibull = 6.928168431614811e-10\n",
      "p value for erlang = 1.052461604472364e-41\n",
      "p value for exponnorm = 7.720335528170629e-07\n",
      "p value for f = 4.940207066298226e-10\n",
      "p value for fatiguelife = 1.4667845015790087e-07\n",
      "p value for gamma = 3.120866167200452e-31\n",
      "p value for gengamma = 3.3780076161228415e-35\n",
      "p value for gumbel_l = 7.911140658362043e-09\n",
      "p value for johnsonsb = 6.659510229977693e-18\n",
      "p value for kappa4 = 6.390225516379688e-22\n",
      "p value for lognorm = 6.677625232671758e-27\n",
      "p value for nct = 8.389699838025371e-07\n",
      "p value for norm = 2.9905103094429466e-09\n",
      "p value for norminvgauss = 1.9883690059384983e-07\n",
      "p value for powernorm = 5.69320390726131e-08\n",
      "p value for rice = 6.008338811339319e-08\n",
      "p value for recipinvgauss = 1.0204427503324627e-07\n",
      "p value for t = 4.1495986291836466e-08\n",
      "p value for trapz = 4.291139733358819e-55\n",
      "p value for truncnorm = 3.0854549274395264e-07\n",
      "\n",
      "Best fitting distribution: alpha\n",
      "Best p value: 1.4259399000489275e-06\n",
      "Parameters for the best fit: (5.783058438949956, -4.20986029264825, 30.878991656277478)\n",
      "\n",
      "\n",
      "\n",
      "************************\n",
      "year: 2022  Bowler: YS Chahal\n",
      "p value for alpha = 1.1180274965710719e-05\n",
      "p value for beta = 1.0295677049868252e-44\n",
      "p value for betaprime = 6.005755537239427e-40\n",
      "p value for burr12 = 1.7979353447013811e-12\n",
      "p value for crystalball = 5.1232708024114544e-08\n",
      "p value for dgamma = 4.012289620255995e-08\n",
      "p value for dweibull = 1.3446088982977968e-07\n",
      "p value for erlang = 2.6044501249608127e-33\n",
      "p value for exponnorm = 9.70188325365383e-06\n",
      "p value for f = 4.3760412135414686e-11\n",
      "p value for fatiguelife = 1.0610357499785987e-07\n",
      "p value for gamma = 3.2021687139045712e-55\n",
      "p value for gengamma = 4.0264602677437785e-26\n",
      "p value for gumbel_l = 8.01003405037582e-08\n",
      "p value for johnsonsb = 9.127045203599366e-44\n",
      "p value for kappa4 = 5.8742872003226356e-27\n",
      "p value for lognorm = 1.2869567438882943e-32\n",
      "p value for nct = 5.296213377700368e-06\n",
      "p value for norm = 5.1235707238843755e-08\n",
      "p value for norminvgauss = 3.3808295582037935e-07\n",
      "p value for powernorm = 1.021178511514112e-06\n",
      "p value for rice = 1.0373024397997343e-06\n",
      "p value for recipinvgauss = 1.53711078374615e-21\n",
      "p value for t = 1.1782910213333637e-07\n",
      "p value for trapz = 1.8568421933146807e-70\n",
      "p value for truncnorm = 1.609035128404315e-07\n",
      "\n",
      "Best fitting distribution: alpha\n",
      "Best p value: 1.1180274965710719e-05\n",
      "Parameters for the best fit: (6.054854001673274, -4.898293043793716, 36.81747298117385)\n",
      "\n",
      "\n",
      "\n",
      "************************\n",
      "year: 2022  Bowler: PWH de Silva\n",
      "p value for alpha = 0.20501605213397378\n",
      "p value for beta = 6.089293734595811e-08\n",
      "p value for betaprime = 3.597368592551267e-07\n",
      "p value for burr12 = 2.7078633279028545e-05\n",
      "p value for crystalball = 0.12578198773774585\n",
      "p value for dgamma = 0.04130328255260218\n",
      "p value for dweibull = 0.08384976427162893\n",
      "p value for erlang = 0.0002485071992361352\n",
      "p value for exponnorm = 0.30764249735710736\n",
      "p value for f = 0.006583510714380458\n",
      "p value for fatiguelife = 0.08795961369535732\n",
      "p value for gamma = 8.727963496024317e-05\n",
      "p value for gengamma = 0.00519063892676308\n",
      "p value for gumbel_l = 0.014493692496563626\n",
      "p value for johnsonsb = 2.0634443260981352e-05\n",
      "p value for kappa4 = 1.8620061578617215e-06\n",
      "p value for lognorm = 5.934676005942877e-06\n",
      "p value for nct = 0.18287627001224627\n",
      "p value for norm = 0.1257824642902543\n",
      "p value for norminvgauss = 0.10918449199764368\n",
      "p value for powernorm = 0.1963520712744381\n",
      "p value for rice = 0.1985929094578025\n",
      "p value for recipinvgauss = 4.423190500679613e-05\n",
      "p value for t = 0.19733199368277732\n",
      "p value for trapz = 1.9360347216700493e-15\n",
      "p value for truncnorm = 0.10632743012364121\n",
      "\n",
      "Best fitting distribution: exponnorm\n",
      "Best p value: 0.30764249735710736\n",
      "Parameters for the best fit: (1.5651879172672551, 0.40254290759385924, 0.6274498232929551)\n",
      "\n",
      "\n",
      "\n",
      "************************\n",
      "year: 2022  Bowler: K Rabada\n",
      "p value for alpha = 0.017666063432803525\n",
      "p value for beta = 4.443616547466671e-12\n",
      "p value for betaprime = 4.702163459968348e-17\n",
      "p value for burr12 = 1.0217952890763225e-11\n",
      "p value for crystalball = 0.003016635703159909\n",
      "p value for dgamma = 0.004039539567682993\n",
      "p value for dweibull = 0.004897361468685357\n",
      "p value for erlang = 6.666902843060855e-10\n",
      "p value for exponnorm = 0.012447792991604367\n",
      "p value for f = 6.634692021556237e-06\n",
      "p value for fatiguelife = 0.011517197590084738\n",
      "p value for gamma = 1.032396146883282e-12\n",
      "p value for gengamma = 2.6816733980980167e-12\n",
      "p value for gumbel_l = 0.00045795960689101544\n",
      "p value for johnsonsb = 3.123503411674573e-12\n",
      "p value for kappa4 = 2.016542974865221e-05\n",
      "p value for lognorm = 2.015341179637063e-18\n",
      "p value for nct = 0.01550593593647065\n",
      "p value for norm = 0.003016639761756701\n",
      "p value for norminvgauss = 0.011593590051028446\n",
      "p value for powernorm = 0.012612430707673927\n",
      "p value for rice = 0.012664345659931242\n",
      "p value for recipinvgauss = 0.011156908993035786\n",
      "p value for t = 0.0030166123509550724\n",
      "p value for trapz = 2.238131859007279e-22\n",
      "p value for truncnorm = 0.0070053354346667485\n",
      "\n",
      "Best fitting distribution: alpha\n",
      "Best p value: 0.017666063432803525\n",
      "Parameters for the best fit: (8.172744476082507, -7.746415964015842, 75.18055369544504)\n",
      "\n",
      "\n",
      "\n"
     ]
    }
   ],
   "source": [
    "import warnings\n",
    "warnings.filterwarnings('ignore')\n",
    "wickets = ipl_bbbc.groupby(['Bowler','Match id'])[['wicket_confirmation']].sum().reset_index()\n",
    "\n",
    "for key in list_top_bowler_last_three_year:\n",
    "    for bowler in list_top_bowler_last_three_year[key]:\n",
    "        print(\"************************\")\n",
    "        print(\"year:\", key, \" Bowler:\", bowler)\n",
    "        get_best_distribution(wickets[wickets[\"Bowler\"] == bowler][\"wicket_confirmation\"])\n",
    "        print(\"\\n\\n\")"
   ]
  },
  {
   "cell_type": "markdown",
   "id": "3738f046",
   "metadata": {
    "ExecuteTime": {
     "end_time": "2024-06-17T19:30:56.139137Z",
     "start_time": "2024-06-17T19:30:56.136008Z"
    }
   },
   "source": [
    "**Relationship between the performance of a player and the salary he gets**"
   ]
  },
  {
   "cell_type": "code",
   "execution_count": 20,
   "id": "789ddaf2",
   "metadata": {
    "ExecuteTime": {
     "end_time": "2024-06-17T19:57:30.473869Z",
     "start_time": "2024-06-17T19:57:30.467885Z"
    }
   },
   "outputs": [],
   "source": [
    "R2024 =total_run_each_year[total_run_each_year['year']==2024]"
   ]
  },
  {
   "cell_type": "code",
   "execution_count": 1,
   "id": "1cb358dc",
   "metadata": {},
   "outputs": [],
   "source": [
    "import warnings\n",
    "warnings.filterwarnings('ignore')"
   ]
  },
  {
   "cell_type": "code",
   "execution_count": 8,
   "id": "f281980a",
   "metadata": {},
   "outputs": [
    {
     "ename": "FileNotFoundError",
     "evalue": "[Errno 2] No such file or directory: 'IPL_ball_by_ball_updated till 2024.csv'",
     "output_type": "error",
     "traceback": [
      "\u001b[1;31m---------------------------------------------------------------------------\u001b[0m",
      "\u001b[1;31mFileNotFoundError\u001b[0m                         Traceback (most recent call last)",
      "Cell \u001b[1;32mIn[8], line 3\u001b[0m\n\u001b[0;32m      1\u001b[0m \u001b[38;5;28;01mimport\u001b[39;00m \u001b[38;5;21;01mpandas\u001b[39;00m \u001b[38;5;28;01mas\u001b[39;00m \u001b[38;5;21;01mpd\u001b[39;00m\n\u001b[1;32m----> 3\u001b[0m ipl_bbb \u001b[38;5;241m=\u001b[39m pd\u001b[38;5;241m.\u001b[39mread_csv(\u001b[38;5;124m'\u001b[39m\u001b[38;5;124mIPL_ball_by_ball_updated till 2024.csv\u001b[39m\u001b[38;5;124m'\u001b[39m,low_memory\u001b[38;5;241m=\u001b[39m\u001b[38;5;28;01mFalse\u001b[39;00m)\n",
      "File \u001b[1;32m~\\anaconda3\\Lib\\site-packages\\pandas\\io\\parsers\\readers.py:912\u001b[0m, in \u001b[0;36mread_csv\u001b[1;34m(filepath_or_buffer, sep, delimiter, header, names, index_col, usecols, dtype, engine, converters, true_values, false_values, skipinitialspace, skiprows, skipfooter, nrows, na_values, keep_default_na, na_filter, verbose, skip_blank_lines, parse_dates, infer_datetime_format, keep_date_col, date_parser, date_format, dayfirst, cache_dates, iterator, chunksize, compression, thousands, decimal, lineterminator, quotechar, quoting, doublequote, escapechar, comment, encoding, encoding_errors, dialect, on_bad_lines, delim_whitespace, low_memory, memory_map, float_precision, storage_options, dtype_backend)\u001b[0m\n\u001b[0;32m    899\u001b[0m kwds_defaults \u001b[38;5;241m=\u001b[39m _refine_defaults_read(\n\u001b[0;32m    900\u001b[0m     dialect,\n\u001b[0;32m    901\u001b[0m     delimiter,\n\u001b[1;32m   (...)\u001b[0m\n\u001b[0;32m    908\u001b[0m     dtype_backend\u001b[38;5;241m=\u001b[39mdtype_backend,\n\u001b[0;32m    909\u001b[0m )\n\u001b[0;32m    910\u001b[0m kwds\u001b[38;5;241m.\u001b[39mupdate(kwds_defaults)\n\u001b[1;32m--> 912\u001b[0m \u001b[38;5;28;01mreturn\u001b[39;00m _read(filepath_or_buffer, kwds)\n",
      "File \u001b[1;32m~\\anaconda3\\Lib\\site-packages\\pandas\\io\\parsers\\readers.py:577\u001b[0m, in \u001b[0;36m_read\u001b[1;34m(filepath_or_buffer, kwds)\u001b[0m\n\u001b[0;32m    574\u001b[0m _validate_names(kwds\u001b[38;5;241m.\u001b[39mget(\u001b[38;5;124m\"\u001b[39m\u001b[38;5;124mnames\u001b[39m\u001b[38;5;124m\"\u001b[39m, \u001b[38;5;28;01mNone\u001b[39;00m))\n\u001b[0;32m    576\u001b[0m \u001b[38;5;66;03m# Create the parser.\u001b[39;00m\n\u001b[1;32m--> 577\u001b[0m parser \u001b[38;5;241m=\u001b[39m TextFileReader(filepath_or_buffer, \u001b[38;5;241m*\u001b[39m\u001b[38;5;241m*\u001b[39mkwds)\n\u001b[0;32m    579\u001b[0m \u001b[38;5;28;01mif\u001b[39;00m chunksize \u001b[38;5;129;01mor\u001b[39;00m iterator:\n\u001b[0;32m    580\u001b[0m     \u001b[38;5;28;01mreturn\u001b[39;00m parser\n",
      "File \u001b[1;32m~\\anaconda3\\Lib\\site-packages\\pandas\\io\\parsers\\readers.py:1407\u001b[0m, in \u001b[0;36mTextFileReader.__init__\u001b[1;34m(self, f, engine, **kwds)\u001b[0m\n\u001b[0;32m   1404\u001b[0m     \u001b[38;5;28mself\u001b[39m\u001b[38;5;241m.\u001b[39moptions[\u001b[38;5;124m\"\u001b[39m\u001b[38;5;124mhas_index_names\u001b[39m\u001b[38;5;124m\"\u001b[39m] \u001b[38;5;241m=\u001b[39m kwds[\u001b[38;5;124m\"\u001b[39m\u001b[38;5;124mhas_index_names\u001b[39m\u001b[38;5;124m\"\u001b[39m]\n\u001b[0;32m   1406\u001b[0m \u001b[38;5;28mself\u001b[39m\u001b[38;5;241m.\u001b[39mhandles: IOHandles \u001b[38;5;241m|\u001b[39m \u001b[38;5;28;01mNone\u001b[39;00m \u001b[38;5;241m=\u001b[39m \u001b[38;5;28;01mNone\u001b[39;00m\n\u001b[1;32m-> 1407\u001b[0m \u001b[38;5;28mself\u001b[39m\u001b[38;5;241m.\u001b[39m_engine \u001b[38;5;241m=\u001b[39m \u001b[38;5;28mself\u001b[39m\u001b[38;5;241m.\u001b[39m_make_engine(f, \u001b[38;5;28mself\u001b[39m\u001b[38;5;241m.\u001b[39mengine)\n",
      "File \u001b[1;32m~\\anaconda3\\Lib\\site-packages\\pandas\\io\\parsers\\readers.py:1661\u001b[0m, in \u001b[0;36mTextFileReader._make_engine\u001b[1;34m(self, f, engine)\u001b[0m\n\u001b[0;32m   1659\u001b[0m     \u001b[38;5;28;01mif\u001b[39;00m \u001b[38;5;124m\"\u001b[39m\u001b[38;5;124mb\u001b[39m\u001b[38;5;124m\"\u001b[39m \u001b[38;5;129;01mnot\u001b[39;00m \u001b[38;5;129;01min\u001b[39;00m mode:\n\u001b[0;32m   1660\u001b[0m         mode \u001b[38;5;241m+\u001b[39m\u001b[38;5;241m=\u001b[39m \u001b[38;5;124m\"\u001b[39m\u001b[38;5;124mb\u001b[39m\u001b[38;5;124m\"\u001b[39m\n\u001b[1;32m-> 1661\u001b[0m \u001b[38;5;28mself\u001b[39m\u001b[38;5;241m.\u001b[39mhandles \u001b[38;5;241m=\u001b[39m get_handle(\n\u001b[0;32m   1662\u001b[0m     f,\n\u001b[0;32m   1663\u001b[0m     mode,\n\u001b[0;32m   1664\u001b[0m     encoding\u001b[38;5;241m=\u001b[39m\u001b[38;5;28mself\u001b[39m\u001b[38;5;241m.\u001b[39moptions\u001b[38;5;241m.\u001b[39mget(\u001b[38;5;124m\"\u001b[39m\u001b[38;5;124mencoding\u001b[39m\u001b[38;5;124m\"\u001b[39m, \u001b[38;5;28;01mNone\u001b[39;00m),\n\u001b[0;32m   1665\u001b[0m     compression\u001b[38;5;241m=\u001b[39m\u001b[38;5;28mself\u001b[39m\u001b[38;5;241m.\u001b[39moptions\u001b[38;5;241m.\u001b[39mget(\u001b[38;5;124m\"\u001b[39m\u001b[38;5;124mcompression\u001b[39m\u001b[38;5;124m\"\u001b[39m, \u001b[38;5;28;01mNone\u001b[39;00m),\n\u001b[0;32m   1666\u001b[0m     memory_map\u001b[38;5;241m=\u001b[39m\u001b[38;5;28mself\u001b[39m\u001b[38;5;241m.\u001b[39moptions\u001b[38;5;241m.\u001b[39mget(\u001b[38;5;124m\"\u001b[39m\u001b[38;5;124mmemory_map\u001b[39m\u001b[38;5;124m\"\u001b[39m, \u001b[38;5;28;01mFalse\u001b[39;00m),\n\u001b[0;32m   1667\u001b[0m     is_text\u001b[38;5;241m=\u001b[39mis_text,\n\u001b[0;32m   1668\u001b[0m     errors\u001b[38;5;241m=\u001b[39m\u001b[38;5;28mself\u001b[39m\u001b[38;5;241m.\u001b[39moptions\u001b[38;5;241m.\u001b[39mget(\u001b[38;5;124m\"\u001b[39m\u001b[38;5;124mencoding_errors\u001b[39m\u001b[38;5;124m\"\u001b[39m, \u001b[38;5;124m\"\u001b[39m\u001b[38;5;124mstrict\u001b[39m\u001b[38;5;124m\"\u001b[39m),\n\u001b[0;32m   1669\u001b[0m     storage_options\u001b[38;5;241m=\u001b[39m\u001b[38;5;28mself\u001b[39m\u001b[38;5;241m.\u001b[39moptions\u001b[38;5;241m.\u001b[39mget(\u001b[38;5;124m\"\u001b[39m\u001b[38;5;124mstorage_options\u001b[39m\u001b[38;5;124m\"\u001b[39m, \u001b[38;5;28;01mNone\u001b[39;00m),\n\u001b[0;32m   1670\u001b[0m )\n\u001b[0;32m   1671\u001b[0m \u001b[38;5;28;01massert\u001b[39;00m \u001b[38;5;28mself\u001b[39m\u001b[38;5;241m.\u001b[39mhandles \u001b[38;5;129;01mis\u001b[39;00m \u001b[38;5;129;01mnot\u001b[39;00m \u001b[38;5;28;01mNone\u001b[39;00m\n\u001b[0;32m   1672\u001b[0m f \u001b[38;5;241m=\u001b[39m \u001b[38;5;28mself\u001b[39m\u001b[38;5;241m.\u001b[39mhandles\u001b[38;5;241m.\u001b[39mhandle\n",
      "File \u001b[1;32m~\\anaconda3\\Lib\\site-packages\\pandas\\io\\common.py:859\u001b[0m, in \u001b[0;36mget_handle\u001b[1;34m(path_or_buf, mode, encoding, compression, memory_map, is_text, errors, storage_options)\u001b[0m\n\u001b[0;32m    854\u001b[0m \u001b[38;5;28;01melif\u001b[39;00m \u001b[38;5;28misinstance\u001b[39m(handle, \u001b[38;5;28mstr\u001b[39m):\n\u001b[0;32m    855\u001b[0m     \u001b[38;5;66;03m# Check whether the filename is to be opened in binary mode.\u001b[39;00m\n\u001b[0;32m    856\u001b[0m     \u001b[38;5;66;03m# Binary mode does not support 'encoding' and 'newline'.\u001b[39;00m\n\u001b[0;32m    857\u001b[0m     \u001b[38;5;28;01mif\u001b[39;00m ioargs\u001b[38;5;241m.\u001b[39mencoding \u001b[38;5;129;01mand\u001b[39;00m \u001b[38;5;124m\"\u001b[39m\u001b[38;5;124mb\u001b[39m\u001b[38;5;124m\"\u001b[39m \u001b[38;5;129;01mnot\u001b[39;00m \u001b[38;5;129;01min\u001b[39;00m ioargs\u001b[38;5;241m.\u001b[39mmode:\n\u001b[0;32m    858\u001b[0m         \u001b[38;5;66;03m# Encoding\u001b[39;00m\n\u001b[1;32m--> 859\u001b[0m         handle \u001b[38;5;241m=\u001b[39m \u001b[38;5;28mopen\u001b[39m(\n\u001b[0;32m    860\u001b[0m             handle,\n\u001b[0;32m    861\u001b[0m             ioargs\u001b[38;5;241m.\u001b[39mmode,\n\u001b[0;32m    862\u001b[0m             encoding\u001b[38;5;241m=\u001b[39mioargs\u001b[38;5;241m.\u001b[39mencoding,\n\u001b[0;32m    863\u001b[0m             errors\u001b[38;5;241m=\u001b[39merrors,\n\u001b[0;32m    864\u001b[0m             newline\u001b[38;5;241m=\u001b[39m\u001b[38;5;124m\"\u001b[39m\u001b[38;5;124m\"\u001b[39m,\n\u001b[0;32m    865\u001b[0m         )\n\u001b[0;32m    866\u001b[0m     \u001b[38;5;28;01melse\u001b[39;00m:\n\u001b[0;32m    867\u001b[0m         \u001b[38;5;66;03m# Binary mode\u001b[39;00m\n\u001b[0;32m    868\u001b[0m         handle \u001b[38;5;241m=\u001b[39m \u001b[38;5;28mopen\u001b[39m(handle, ioargs\u001b[38;5;241m.\u001b[39mmode)\n",
      "\u001b[1;31mFileNotFoundError\u001b[0m: [Errno 2] No such file or directory: 'IPL_ball_by_ball_updated till 2024.csv'"
     ]
    }
   ],
   "source": [
    "import pandas as pd\n",
    "\n",
    "ipl_bbb = pd.read_csv('IPL_ball_by_ball_updated till 2024.csv',low_memory=False)\n"
   ]
  },
  {
   "cell_type": "code",
   "execution_count": null,
   "id": "8243cda3",
   "metadata": {},
   "outputs": [],
   "source": []
  },
  {
   "cell_type": "code",
   "execution_count": null,
   "id": "7420da21",
   "metadata": {},
   "outputs": [],
   "source": []
  },
  {
   "cell_type": "code",
   "execution_count": null,
   "id": "cb9b238b",
   "metadata": {},
   "outputs": [],
   "source": []
  },
  {
   "cell_type": "code",
   "execution_count": 21,
   "id": "6ba9a083",
   "metadata": {
    "ExecuteTime": {
     "end_time": "2024-06-17T20:15:26.949292Z",
     "start_time": "2024-06-17T20:15:26.944738Z"
    }
   },
   "outputs": [],
   "source": [
    "#pip install fuzzywuzzy"
   ]
  },
  {
   "cell_type": "code",
   "execution_count": 22,
   "id": "ccd0c41e",
   "metadata": {
    "ExecuteTime": {
     "end_time": "2024-06-17T20:15:41.651153Z",
     "start_time": "2024-06-17T20:15:33.461692Z"
    }
   },
   "outputs": [],
   "source": [
    "from fuzzywuzzy import process\n",
    "\n",
    "# Convert to DataFrame\n",
    "df_salary = ipl_salary.copy()\n",
    "df_runs = R2024.copy()\n",
    "\n",
    "# Function to match names\n",
    "def match_names(name, names_list):\n",
    "    match, score = process.extractOne(name, names_list)\n",
    "    return match if score >= 80 else None  # Use a threshold score of 80\n",
    "\n",
    "# Create a new column in df_salary with matched names from df_runs\n",
    "df_salary['Matched_Player'] = df_salary['Player'].apply(lambda x: match_names(x, df_runs['Striker'].tolist()))\n",
    "\n",
    "# Merge the DataFrames on the matched names\n",
    "df_merged = pd.merge(df_salary, df_runs, left_on='Matched_Player', right_on='Striker')"
   ]
  },
  {
   "cell_type": "code",
   "execution_count": 103,
   "id": "307e8a5f",
   "metadata": {
    "ExecuteTime": {
     "end_time": "2024-06-17T20:08:31.379361Z",
     "start_time": "2024-06-17T20:08:31.346734Z"
    }
   },
   "outputs": [
    {
     "name": "stdout",
     "output_type": "stream",
     "text": [
      "<class 'pandas.core.frame.DataFrame'>\n",
      "RangeIndex: 111 entries, 0 to 110\n",
      "Data columns (total 10 columns):\n",
      " #   Column          Non-Null Count  Dtype  \n",
      "---  ------          --------------  -----  \n",
      " 0   Player          111 non-null    object \n",
      " 1   Salary          111 non-null    object \n",
      " 2   Rs              111 non-null    int64  \n",
      " 3   international   111 non-null    int64  \n",
      " 4   iconic          0 non-null      float64\n",
      " 5   Player_Match    111 non-null    object \n",
      " 6   Matched_Player  111 non-null    object \n",
      " 7   year            111 non-null    int32  \n",
      " 8   Striker         111 non-null    object \n",
      " 9   runs_scored     111 non-null    int64  \n",
      "dtypes: float64(1), int32(1), int64(3), object(5)\n",
      "memory usage: 8.4+ KB\n"
     ]
    }
   ],
   "source": [
    "df_merged.info()"
   ]
  },
  {
   "cell_type": "code",
   "execution_count": 23,
   "id": "d24035b7",
   "metadata": {
    "ExecuteTime": {
     "end_time": "2024-06-17T20:08:37.821228Z",
     "start_time": "2024-06-17T20:08:37.774094Z"
    }
   },
   "outputs": [
    {
     "name": "stdout",
     "output_type": "stream",
     "text": [
      "Correlation between Salary and Runs: 0.3514061444454122\n"
     ]
    }
   ],
   "source": [
    "# Calculate the correlation\n",
    "correlation = df_merged['Rs'].corr(df_merged['runs_scored'])\n",
    "\n",
    "print(\"Correlation between Salary and Runs:\", correlation)"
   ]
  },
  {
   "cell_type": "code",
   "execution_count": 34,
   "id": "88cf6cee",
   "metadata": {},
   "outputs": [],
   "source": [
    "import pandas as pd\n",
    "\n"
   ]
  },
  {
   "cell_type": "code",
   "execution_count": 50,
   "id": "461112b8",
   "metadata": {},
   "outputs": [],
   "source": [
    "ipl_salary = pd.read_excel(salaries_file)"
   ]
  },
  {
   "cell_type": "code",
   "execution_count": 51,
   "id": "2b65ea47",
   "metadata": {},
   "outputs": [],
   "source": [
    "bbb_file = 'C:\\\\Users\\\\anjel\\\\Downloads\\\\SCMA\\\\IPL_ball_by_ball_updated till 2024.csv'"
   ]
  },
  {
   "cell_type": "code",
   "execution_count": 52,
   "id": "4e1dd121",
   "metadata": {},
   "outputs": [],
   "source": [
    "ipl_bbb = pd.read_csv(bbb_file, low_memory=False)"
   ]
  },
  {
   "cell_type": "code",
   "execution_count": 53,
   "id": "a37b9264",
   "metadata": {},
   "outputs": [],
   "source": [
    "# Filter data for SO Hetmyer as striker"
   ]
  },
  {
   "cell_type": "code",
   "execution_count": 54,
   "id": "027158c9",
   "metadata": {},
   "outputs": [],
   "source": [
    "hetmyer_stats = ipl_bbb[ipl_bbb['Striker'] == 'SO Hetmyer']"
   ]
  },
  {
   "cell_type": "code",
   "execution_count": 55,
   "id": "ad029cb5",
   "metadata": {},
   "outputs": [],
   "source": [
    "hetmyer_performance = hetmyer_stats[['Match id', 'runs_scored', 'wicket_type']]"
   ]
  },
  {
   "cell_type": "code",
   "execution_count": 56,
   "id": "86643c47",
   "metadata": {},
   "outputs": [],
   "source": [
    "hetmyer_performance = hetmyer_performance.groupby('Match id').agg({\n",
    "    'runs_scored': 'sum',          # Total runs scored\n",
    "    'wicket_type': lambda x: (x == 'bowled').sum()  # Total wickets bowled\n",
    "}).reset_index()\n"
   ]
  },
  {
   "cell_type": "code",
   "execution_count": 57,
   "id": "9e10e42d",
   "metadata": {},
   "outputs": [],
   "source": [
    "hetmyer_performance.columns = ['Match id', 'Runs Scored', 'Wickets Taken']\n"
   ]
  },
  {
   "cell_type": "code",
   "execution_count": 58,
   "id": "4ea3cd34",
   "metadata": {},
   "outputs": [
    {
     "name": "stdout",
     "output_type": "stream",
     "text": [
      "   Match id  Runs Scored  Wickets Taken\n",
      "0   1175356            0              0\n",
      "1   1175362            5              0\n",
      "2   1175366            9              0\n",
      "3   1175369            1              0\n",
      "4   1178429           75              0\n"
     ]
    }
   ],
   "source": [
    "print(hetmyer_performance.head())"
   ]
  },
  {
   "cell_type": "code",
   "execution_count": 66,
   "id": "e5723f33",
   "metadata": {},
   "outputs": [
    {
     "name": "stdout",
     "output_type": "stream",
     "text": [
      "Index(['Player', 'Salary', 'Rs', 'international', 'iconic'], dtype='object')\n"
     ]
    }
   ],
   "source": [
    "print(ipl_salary.columns)"
   ]
  },
  {
   "cell_type": "code",
   "execution_count": 69,
   "id": "cfd31472",
   "metadata": {
    "scrolled": true
   },
   "outputs": [
    {
     "data": {
      "text/html": [
       "<div>\n",
       "<style scoped>\n",
       "    .dataframe tbody tr th:only-of-type {\n",
       "        vertical-align: middle;\n",
       "    }\n",
       "\n",
       "    .dataframe tbody tr th {\n",
       "        vertical-align: top;\n",
       "    }\n",
       "\n",
       "    .dataframe thead th {\n",
       "        text-align: right;\n",
       "    }\n",
       "</style>\n",
       "<table border=\"1\" class=\"dataframe\">\n",
       "  <thead>\n",
       "    <tr style=\"text-align: right;\">\n",
       "      <th></th>\n",
       "      <th>Player</th>\n",
       "      <th>Salary</th>\n",
       "      <th>Rs</th>\n",
       "      <th>international</th>\n",
       "      <th>iconic</th>\n",
       "    </tr>\n",
       "  </thead>\n",
       "  <tbody>\n",
       "    <tr>\n",
       "      <th>0</th>\n",
       "      <td>Abhishek Porel</td>\n",
       "      <td>20 lakh</td>\n",
       "      <td>20</td>\n",
       "      <td>0</td>\n",
       "      <td>NaN</td>\n",
       "    </tr>\n",
       "    <tr>\n",
       "      <th>1</th>\n",
       "      <td>Anrich Nortje</td>\n",
       "      <td>6.5 crore</td>\n",
       "      <td>650</td>\n",
       "      <td>1</td>\n",
       "      <td>NaN</td>\n",
       "    </tr>\n",
       "    <tr>\n",
       "      <th>2</th>\n",
       "      <td>Axar Patel</td>\n",
       "      <td>9 crore</td>\n",
       "      <td>900</td>\n",
       "      <td>0</td>\n",
       "      <td>NaN</td>\n",
       "    </tr>\n",
       "    <tr>\n",
       "      <th>3</th>\n",
       "      <td>David Warner</td>\n",
       "      <td>6.25 crore</td>\n",
       "      <td>625</td>\n",
       "      <td>1</td>\n",
       "      <td>NaN</td>\n",
       "    </tr>\n",
       "    <tr>\n",
       "      <th>4</th>\n",
       "      <td>Ishant Sharma</td>\n",
       "      <td>50 lakh</td>\n",
       "      <td>50</td>\n",
       "      <td>0</td>\n",
       "      <td>NaN</td>\n",
       "    </tr>\n",
       "  </tbody>\n",
       "</table>\n",
       "</div>"
      ],
      "text/plain": [
       "           Player      Salary   Rs  international  iconic\n",
       "0  Abhishek Porel     20 lakh   20              0     NaN\n",
       "1   Anrich Nortje   6.5 crore  650              1     NaN\n",
       "2      Axar Patel     9 crore  900              0     NaN\n",
       "3    David Warner  6.25 crore  625              1     NaN\n",
       "4   Ishant Sharma     50 lakh   50              0     NaN"
      ]
     },
     "execution_count": 69,
     "metadata": {},
     "output_type": "execute_result"
    }
   ],
   "source": [
    "ipl_salary.head()"
   ]
  },
  {
   "cell_type": "code",
   "execution_count": 76,
   "id": "9e8bc02a",
   "metadata": {},
   "outputs": [
    {
     "name": "stdout",
     "output_type": "stream",
     "text": [
      "Index(['Match id', 'Runs Scored', 'Wickets Taken'], dtype='object')\n"
     ]
    }
   ],
   "source": [
    "print(hetmyer_performance.columns)\n"
   ]
  },
  {
   "cell_type": "code",
   "execution_count": 77,
   "id": "32316a9a",
   "metadata": {},
   "outputs": [
    {
     "name": "stdout",
     "output_type": "stream",
     "text": [
      "Index(['Player', 'Salary', 'Rs', 'international', 'iconic'], dtype='object')\n"
     ]
    }
   ],
   "source": [
    "print(ipl_salary.columns)"
   ]
  },
  {
   "cell_type": "code",
   "execution_count": 80,
   "id": "91adabd3",
   "metadata": {},
   "outputs": [
    {
     "name": "stdout",
     "output_type": "stream",
     "text": [
      "Columns of IPL Salary DataFrame:\n",
      "Index(['Player', 'Salary', 'Rs', 'international', 'iconic'], dtype='object')\n",
      "\n",
      "Columns of IPL Ball-by-Ball DataFrame:\n",
      "Index(['Match id', 'Date', 'Season', 'Batting team', 'Bowling team',\n",
      "       'Innings No', 'Ball No', 'Bowler', 'Striker', 'Non Striker',\n",
      "       'runs_scored', 'extras', 'type of extras', 'score', 'score/wicket',\n",
      "       'wicket_confirmation', 'wicket_type', 'fielders_involved',\n",
      "       'Player Out'],\n",
      "      dtype='object')\n"
     ]
    }
   ],
   "source": [
    "print(\"Columns of IPL Salary DataFrame:\")\n",
    "print(ipl_salary.columns)\n",
    "\n",
    "print(\"\\nColumns of IPL Ball-by-Ball DataFrame:\")\n",
    "print(ipl_bbb.columns)"
   ]
  },
  {
   "cell_type": "code",
   "execution_count": 81,
   "id": "0d0e6675",
   "metadata": {},
   "outputs": [],
   "source": [
    "merged_data = pd.concat([ipl_salary, ipl_bbb], axis=1)"
   ]
  },
  {
   "cell_type": "code",
   "execution_count": 82,
   "id": "517330fa",
   "metadata": {},
   "outputs": [
    {
     "name": "stdout",
     "output_type": "stream",
     "text": [
      "\n",
      "Merged DataFrame:\n"
     ]
    }
   ],
   "source": [
    "print(\"\\nMerged DataFrame:\")"
   ]
  },
  {
   "cell_type": "code",
   "execution_count": 83,
   "id": "133aeea6",
   "metadata": {},
   "outputs": [
    {
     "name": "stdout",
     "output_type": "stream",
     "text": [
      "           Player      Salary     Rs  international  iconic  Match id  \\\n",
      "0  Abhishek Porel     20 lakh   20.0            0.0     NaN    335982   \n",
      "1   Anrich Nortje   6.5 crore  650.0            1.0     NaN    335982   \n",
      "2      Axar Patel     9 crore  900.0            0.0     NaN    335982   \n",
      "3    David Warner  6.25 crore  625.0            1.0     NaN    335982   \n",
      "4   Ishant Sharma     50 lakh   50.0            0.0     NaN    335982   \n",
      "\n",
      "         Date   Season           Batting team                 Bowling team  \\\n",
      "0  18-04-2008  2007/08  Kolkata Knight Riders  Royal Challengers Bangalore   \n",
      "1  18-04-2008  2007/08  Kolkata Knight Riders  Royal Challengers Bangalore   \n",
      "2  18-04-2008  2007/08  Kolkata Knight Riders  Royal Challengers Bangalore   \n",
      "3  18-04-2008  2007/08  Kolkata Knight Riders  Royal Challengers Bangalore   \n",
      "4  18-04-2008  2007/08  Kolkata Knight Riders  Royal Challengers Bangalore   \n",
      "\n",
      "   ...  Non Striker  runs_scored extras type of extras score  score/wicket  \\\n",
      "0  ...  BB McCullum            0      1        legbyes     1           1/0   \n",
      "1  ...   SC Ganguly            0      0            NaN     1           1/0   \n",
      "2  ...   SC Ganguly            0      1          wides     2           2/0   \n",
      "3  ...   SC Ganguly            0      0            NaN     2           2/0   \n",
      "4  ...   SC Ganguly            0      0            NaN     2           2/0   \n",
      "\n",
      "   wicket_confirmation wicket_type  fielders_involved Player Out  \n",
      "0                    0         NaN                NaN        NaN  \n",
      "1                    0         NaN                NaN        NaN  \n",
      "2                    0         NaN                NaN        NaN  \n",
      "3                    0         NaN                NaN        NaN  \n",
      "4                    0         NaN                NaN        NaN  \n",
      "\n",
      "[5 rows x 24 columns]\n"
     ]
    }
   ],
   "source": [
    "print(merged_data.head())"
   ]
  },
  {
   "cell_type": "code",
   "execution_count": 84,
   "id": "7d5cd8b3",
   "metadata": {},
   "outputs": [
    {
     "name": "stdout",
     "output_type": "stream",
     "text": [
      "Original DataFrame:\n"
     ]
    }
   ],
   "source": [
    "print(\"Original DataFrame:\")"
   ]
  },
  {
   "cell_type": "code",
   "execution_count": 86,
   "id": "d2a6709d",
   "metadata": {},
   "outputs": [
    {
     "name": "stdout",
     "output_type": "stream",
     "text": [
      "Index(['Player', 'Salary', 'Rs', 'international', 'iconic', 'Match id', 'Date',\n",
      "       'Season', 'Batting team', 'Bowling team', 'Innings No', 'Ball No',\n",
      "       'Bowler', 'Striker', 'Non Striker', 'runs_scored', 'extras',\n",
      "       'type of extras', 'score', 'score/wicket', 'wicket_confirmation',\n",
      "       'wicket_type', 'fielders_involved', 'Player Out'],\n",
      "      dtype='object')\n"
     ]
    }
   ],
   "source": [
    "print(merged_data.columns)"
   ]
  },
  {
   "cell_type": "code",
   "execution_count": 92,
   "id": "02f85fa2",
   "metadata": {},
   "outputs": [],
   "source": [
    "comparison_data = merged_data[['Player', 'runs_scored', 'Rs']]"
   ]
  },
  {
   "cell_type": "code",
   "execution_count": 93,
   "id": "77e5e26e",
   "metadata": {},
   "outputs": [],
   "source": [
    "average_stats = comparison_data.groupby('Player').agg({\n",
    "    'runs_scored': 'mean',\n",
    "    'Rs': 'mean'\n",
    "}).reset_index()"
   ]
  },
  {
   "cell_type": "code",
   "execution_count": 94,
   "id": "b6013a9d",
   "metadata": {},
   "outputs": [
    {
     "name": "stdout",
     "output_type": "stream",
     "text": [
      "                Player  runs_scored     Rs\n",
      "0          Abdul Samad          0.0  400.0\n",
      "1  Abhinav Sadarangani          0.0  260.0\n",
      "2       Abhishek Porel          0.0   20.0\n",
      "3      Abhishek Sharma          0.0  650.0\n",
      "4           Adam Zampa          0.0  150.0\n"
     ]
    }
   ],
   "source": [
    "print(average_stats.head())"
   ]
  },
  {
   "cell_type": "code",
   "execution_count": 97,
   "id": "38fd4107",
   "metadata": {},
   "outputs": [],
   "source": [
    "correlation = average_stats['runs_scored'].corr(average_stats['Rs'])"
   ]
  },
  {
   "cell_type": "code",
   "execution_count": 98,
   "id": "7d1fcb2a",
   "metadata": {},
   "outputs": [
    {
     "name": "stdout",
     "output_type": "stream",
     "text": [
      "\n",
      "Correlation between runs_scored and Rs: -0.0971388355234988\n"
     ]
    }
   ],
   "source": [
    "print(f\"\\nCorrelation between runs_scored and Rs: {correlation}\")"
   ]
  },
  {
   "cell_type": "code",
   "execution_count": 100,
   "id": "7996d4d7",
   "metadata": {},
   "outputs": [],
   "source": [
    "merged_data['Player'] = merged_data['Player'].astype(str)"
   ]
  },
  {
   "cell_type": "code",
   "execution_count": 101,
   "id": "84e06b12",
   "metadata": {},
   "outputs": [],
   "source": [
    "hetmyer_data = merged_data[merged_data['Player'].str.contains('Hetmyer', case=False, na=False)]"
   ]
  },
  {
   "cell_type": "code",
   "execution_count": 102,
   "id": "d3a9e550",
   "metadata": {},
   "outputs": [],
   "source": [
    "# Display Hetmyer's performance and salary information"
   ]
  },
  {
   "cell_type": "code",
   "execution_count": 103,
   "id": "b3cda425",
   "metadata": {},
   "outputs": [
    {
     "name": "stdout",
     "output_type": "stream",
     "text": [
      "\n",
      "Hetmyer's Performance and Salary Information:\n"
     ]
    }
   ],
   "source": [
    "print(\"\\nHetmyer's Performance and Salary Information:\")"
   ]
  },
  {
   "cell_type": "code",
   "execution_count": 106,
   "id": "8065c143",
   "metadata": {},
   "outputs": [
    {
     "name": "stdout",
     "output_type": "stream",
     "text": [
      "              Player     Salary     Rs  international  iconic  runs_scored  \\\n",
      "126  Shimron Hetmyer  8.5 crore  850.0            1.0     NaN            0   \n",
      "\n",
      "     wicket_confirmation  \n",
      "126                    0  \n"
     ]
    }
   ],
   "source": [
    "print(hetmyer_data[['Player', 'Salary', 'Rs', 'international', 'iconic', 'runs_scored', 'wicket_confirmation']])"
   ]
  },
  {
   "cell_type": "code",
   "execution_count": 107,
   "id": "c90abaed",
   "metadata": {},
   "outputs": [],
   "source": [
    "total_runs = hetmyer_data['runs_scored'].sum()"
   ]
  },
  {
   "cell_type": "code",
   "execution_count": 109,
   "id": "c3946bcc",
   "metadata": {},
   "outputs": [],
   "source": [
    "hetmyer_salary = hetmyer_data['Salary'].iloc[0]"
   ]
  },
  {
   "cell_type": "code",
   "execution_count": 110,
   "id": "87372a93",
   "metadata": {},
   "outputs": [
    {
     "name": "stdout",
     "output_type": "stream",
     "text": [
      "\n",
      "Summary Comparison:\n",
      "Total Runs Scored by Hetmyer: 0\n",
      "Total Wickets Taken by Hetmyer: 2/0\n",
      "Hetmyer's Salary: 8.5 crore\n"
     ]
    }
   ],
   "source": [
    "print(\"\\nSummary Comparison:\")\n",
    "print(f\"Total Runs Scored by Hetmyer: {total_runs}\")\n",
    "print(f\"Total Wickets Taken by Hetmyer: {total_wickets}\")\n",
    "print(f\"Hetmyer's Salary: {hetmyer_salary}\")"
   ]
  },
  {
   "cell_type": "code",
   "execution_count": 112,
   "id": "3d5516d5",
   "metadata": {},
   "outputs": [],
   "source": [
    "total_scores = hetmyer_data['score'].sum()"
   ]
  },
  {
   "cell_type": "code",
   "execution_count": 114,
   "id": "ccc8c56b",
   "metadata": {},
   "outputs": [
    {
     "name": "stdout",
     "output_type": "stream",
     "text": [
      "total_scores: 2\n"
     ]
    }
   ],
   "source": [
    "print(f\"total_scores: {total_scores}\")"
   ]
  },
  {
   "cell_type": "code",
   "execution_count": 116,
   "id": "23afdf09",
   "metadata": {},
   "outputs": [],
   "source": [
    "import pandas as pd"
   ]
  },
  {
   "cell_type": "code",
   "execution_count": 117,
   "id": "14bfac94",
   "metadata": {},
   "outputs": [],
   "source": [
    "# Assuming you have the following data\n",
    "total_runs_scored = 0\n",
    "wickets_taken = 2\n",
    "hetmyer_salary = 8.5  # in crore\n",
    "total_scores = 2\n"
   ]
  },
  {
   "cell_type": "code",
   "execution_count": 118,
   "id": "d21d4186",
   "metadata": {},
   "outputs": [],
   "source": [
    "data = {\n",
    "    'Total Runs Scored': [total_runs_scored],\n",
    "    'Wickets Taken': [wickets_taken],\n",
    "    'Salary (crore)': [hetmyer_salary],\n",
    "    'Total Scores': [total_scores]\n",
    "}\n",
    "\n",
    "df = pd.DataFrame(data)"
   ]
  },
  {
   "cell_type": "code",
   "execution_count": 126,
   "id": "ac823de9",
   "metadata": {},
   "outputs": [],
   "source": [
    "# Calculate correlation matrix"
   ]
  },
  {
   "cell_type": "code",
   "execution_count": 131,
   "id": "65048851",
   "metadata": {},
   "outputs": [],
   "source": [
    "correlation = average_stats['runs_scored'].corr(average_stats['Rs'])"
   ]
  },
  {
   "cell_type": "code",
   "execution_count": 132,
   "id": "fc0372da",
   "metadata": {},
   "outputs": [
    {
     "name": "stdout",
     "output_type": "stream",
     "text": [
      "Summary Comparison:\n",
      "Total Runs Scored by Hetmyer: 0\n",
      "Total Wickets Taken by Hetmyer: 2\n",
      "Hetmyer's Salary: 8.5 crore\n",
      "Total Scores: 2\n",
      "Correlation between Runs Scored and Salary: nan\n"
     ]
    },
    {
     "name": "stderr",
     "output_type": "stream",
     "text": [
      "C:\\Users\\anjel\\anaconda3\\Lib\\site-packages\\numpy\\lib\\function_base.py:2846: RuntimeWarning: Degrees of freedom <= 0 for slice\n",
      "  c = cov(x, y, rowvar, dtype=dtype)\n",
      "C:\\Users\\anjel\\anaconda3\\Lib\\site-packages\\numpy\\lib\\function_base.py:2705: RuntimeWarning: divide by zero encountered in divide\n",
      "  c *= np.true_divide(1, fact)\n"
     ]
    }
   ],
   "source": [
    "import pandas as pd\n",
    "\n",
    "# Assuming you have the following data\n",
    "total_runs_scored = 0\n",
    "wickets_taken = 2\n",
    "hetmyer_salary = 8.5  # in crore\n",
    "total_scores = 2\n",
    "\n",
    "# Create a DataFrame for Hetmyer's performance and salary\n",
    "hetmyer_data = pd.DataFrame({\n",
    "    'Player': ['Hetmyer'],\n",
    "    'Runs Scored': [total_runs_scored],\n",
    "    'Wickets Taken': [wickets_taken],\n",
    "    'Salary (crore)': [hetmyer_salary],\n",
    "    'Total Scores': [total_scores]\n",
    "})\n",
    "\n",
    "# Print summary comparison\n",
    "print(\"Summary Comparison:\")\n",
    "print(f\"Total Runs Scored by Hetmyer: {total_runs_scored}\")\n",
    "print(f\"Total Wickets Taken by Hetmyer: {wickets_taken}\")\n",
    "print(f\"Hetmyer's Salary: {hetmyer_salary} crore\")\n",
    "print(f\"Total Scores: {total_scores}\")\n",
    "\n",
    "# Calculate correlation\n",
    "correlation = hetmyer_data['Runs Scored'].corr(hetmyer_data['Salary (crore)'])\n",
    "\n",
    "# Print correlation\n",
    "print(f\"Correlation between Runs Scored and Salary: {correlation}\")\n"
   ]
  },
  {
   "cell_type": "code",
   "execution_count": null,
   "id": "a63a6141",
   "metadata": {},
   "outputs": [],
   "source": []
  }
 ],
 "metadata": {
  "kernelspec": {
   "display_name": "Python 3 (ipykernel)",
   "language": "python",
   "name": "python3"
  },
  "language_info": {
   "codemirror_mode": {
    "name": "ipython",
    "version": 3
   },
   "file_extension": ".py",
   "mimetype": "text/x-python",
   "name": "python",
   "nbconvert_exporter": "python",
   "pygments_lexer": "ipython3",
   "version": "3.11.5"
  },
  "varInspector": {
   "cols": {
    "lenName": 16,
    "lenType": 16,
    "lenVar": 40
   },
   "kernels_config": {
    "python": {
     "delete_cmd_postfix": "",
     "delete_cmd_prefix": "del ",
     "library": "var_list.py",
     "varRefreshCmd": "print(var_dic_list())"
    },
    "r": {
     "delete_cmd_postfix": ") ",
     "delete_cmd_prefix": "rm(",
     "library": "var_list.r",
     "varRefreshCmd": "cat(var_dic_list()) "
    }
   },
   "types_to_exclude": [
    "module",
    "function",
    "builtin_function_or_method",
    "instance",
    "_Feature"
   ],
   "window_display": false
  }
 },
 "nbformat": 4,
 "nbformat_minor": 5
}
